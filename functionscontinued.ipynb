{
 "cells": [
  {
   "cell_type": "code",
   "execution_count": 1,
   "id": "38628a07",
   "metadata": {},
   "outputs": [
    {
     "data": {
      "text/plain": [
       "6"
      ]
     },
     "execution_count": 1,
     "metadata": {},
     "output_type": "execute_result"
    }
   ],
   "source": [
    "def test1():\n",
    "    a = 5+1\n",
    "    return a\n",
    "test1()"
   ]
  },
  {
   "cell_type": "code",
   "execution_count": 2,
   "id": "fd7095cc",
   "metadata": {},
   "outputs": [],
   "source": [
    "def test2(a,b):\n",
    "    return a+b"
   ]
  },
  {
   "cell_type": "code",
   "execution_count": 3,
   "id": "bde14a4e",
   "metadata": {},
   "outputs": [
    {
     "data": {
      "text/plain": [
       "5"
      ]
     },
     "execution_count": 3,
     "metadata": {},
     "output_type": "execute_result"
    }
   ],
   "source": [
    "test2(2,3)"
   ]
  },
  {
   "cell_type": "code",
   "execution_count": 4,
   "id": "cbb16616",
   "metadata": {},
   "outputs": [
    {
     "data": {
      "text/plain": [
       "'syedwasimuddin'"
      ]
     },
     "execution_count": 4,
     "metadata": {},
     "output_type": "execute_result"
    }
   ],
   "source": [
    "test2(\"syed\",\"wasimuddin\")"
   ]
  },
  {
   "cell_type": "code",
   "execution_count": 5,
   "id": "b1870900",
   "metadata": {},
   "outputs": [
    {
     "data": {
      "text/plain": [
       "'wasimuddinsyed'"
      ]
     },
     "execution_count": 5,
     "metadata": {},
     "output_type": "execute_result"
    }
   ],
   "source": [
    "test2(b=\"syed\",a=\"wasimuddin\")"
   ]
  },
  {
   "cell_type": "code",
   "execution_count": 7,
   "id": "37009743",
   "metadata": {},
   "outputs": [],
   "source": [
    "def test3(*args) :#*args is the way to allow maximum number of characters and elements \n",
    "    return args"
   ]
  },
  {
   "cell_type": "code",
   "execution_count": 8,
   "id": "711fc0a3",
   "metadata": {},
   "outputs": [
    {
     "data": {
      "text/plain": [
       "(1, 2, 3, 34, 4, 'wasim', 'Data science')"
      ]
     },
     "execution_count": 8,
     "metadata": {},
     "output_type": "execute_result"
    }
   ],
   "source": [
    "test3(1,2,3,34,4,\"wasim\",\"Data science\")"
   ]
  },
  {
   "cell_type": "code",
   "execution_count": 9,
   "id": "e2732ac0",
   "metadata": {},
   "outputs": [
    {
     "data": {
      "text/plain": [
       "tuple"
      ]
     },
     "execution_count": 9,
     "metadata": {},
     "output_type": "execute_result"
    }
   ],
   "source": [
    "type(test3(1,2,3,34,4,\"wasim\",\"Data science\"))"
   ]
  },
  {
   "cell_type": "code",
   "execution_count": 10,
   "id": "db4b2ee1",
   "metadata": {},
   "outputs": [
    {
     "data": {
      "text/plain": [
       "([1, 2, 3, 4, 5], 'wasimuddin', 'syed', (3+2j), (6, 5, 4))"
      ]
     },
     "execution_count": 10,
     "metadata": {},
     "output_type": "execute_result"
    }
   ],
   "source": [
    "test3([1,2,3,4,5],\"wasimuddin\",\"syed\",3+2j,(6,5,4))"
   ]
  },
  {
   "cell_type": "code",
   "execution_count": 11,
   "id": "6ad2bb30",
   "metadata": {},
   "outputs": [
    {
     "data": {
      "text/plain": [
       "tuple"
      ]
     },
     "execution_count": 11,
     "metadata": {},
     "output_type": "execute_result"
    }
   ],
   "source": [
    "type(test3([1,2,3,4,5],\"wasimuddin\",\"syed\",3+2j,(6,5,4)))"
   ]
  },
  {
   "cell_type": "code",
   "execution_count": 12,
   "id": "c25aea43",
   "metadata": {},
   "outputs": [],
   "source": [
    "def test4(*args):\n",
    "    return list(args)"
   ]
  },
  {
   "cell_type": "code",
   "execution_count": 13,
   "id": "9986ac86",
   "metadata": {},
   "outputs": [
    {
     "data": {
      "text/plain": [
       "['wasim', 12.3455, 5, 89]"
      ]
     },
     "execution_count": 13,
     "metadata": {},
     "output_type": "execute_result"
    }
   ],
   "source": [
    "test4(\"wasim\",12.3455,5,89)"
   ]
  },
  {
   "cell_type": "code",
   "execution_count": 14,
   "id": "d36ff53f",
   "metadata": {},
   "outputs": [
    {
     "data": {
      "text/plain": [
       "[[1, 2, 3, 4, 5], 'wasimuddin', 'syed', (3+2j), (6, 5, 4)]"
      ]
     },
     "execution_count": 14,
     "metadata": {},
     "output_type": "execute_result"
    }
   ],
   "source": [
    "test4([1,2,3,4,5],\"wasimuddin\",\"syed\",3+2j,(6,5,4))"
   ]
  },
  {
   "cell_type": "code",
   "execution_count": 16,
   "id": "bdd92c5e",
   "metadata": {},
   "outputs": [],
   "source": [
    "def test5(*wasim):\n",
    "    return list(wasim)"
   ]
  },
  {
   "cell_type": "code",
   "execution_count": 17,
   "id": "08c552e2",
   "metadata": {},
   "outputs": [
    {
     "data": {
      "text/plain": [
       "[2, 6, 8, 3, 'syed', 'wasim']"
      ]
     },
     "execution_count": 17,
     "metadata": {},
     "output_type": "execute_result"
    }
   ],
   "source": [
    "test5(2,6,8,3,\"syed\",\"wasim\")"
   ]
  },
  {
   "cell_type": "code",
   "execution_count": 5,
   "id": "60ada6e8",
   "metadata": {},
   "outputs": [],
   "source": [
    "l = [1,2,3,4,5,6]\n",
    "t = (4,5,6,8+7j)\n",
    "s = {3,4,5,6,5,6,6,6,6,1}"
   ]
  },
  {
   "cell_type": "code",
   "execution_count": 2,
   "id": "e41983f2",
   "metadata": {},
   "outputs": [
    {
     "data": {
      "text/plain": [
       "[1, 2, 3, 4, 5, 6]"
      ]
     },
     "execution_count": 2,
     "metadata": {},
     "output_type": "execute_result"
    }
   ],
   "source": [
    "l"
   ]
  },
  {
   "cell_type": "code",
   "execution_count": 3,
   "id": "ad22cf39",
   "metadata": {},
   "outputs": [
    {
     "data": {
      "text/plain": [
       "(4, 5, 6, (8+7j))"
      ]
     },
     "execution_count": 3,
     "metadata": {},
     "output_type": "execute_result"
    }
   ],
   "source": [
    "t"
   ]
  },
  {
   "cell_type": "code",
   "execution_count": 6,
   "id": "1963538e",
   "metadata": {},
   "outputs": [
    {
     "data": {
      "text/plain": [
       "{1, 3, 4, 5, 6}"
      ]
     },
     "execution_count": 6,
     "metadata": {},
     "output_type": "execute_result"
    }
   ],
   "source": [
    "s"
   ]
  },
  {
   "cell_type": "code",
   "execution_count": 7,
   "id": "626bffb2",
   "metadata": {},
   "outputs": [],
   "source": [
    "d = {}"
   ]
  },
  {
   "cell_type": "code",
   "execution_count": 8,
   "id": "4d1f8e6c",
   "metadata": {},
   "outputs": [
    {
     "data": {
      "text/plain": [
       "dict"
      ]
     },
     "execution_count": 8,
     "metadata": {},
     "output_type": "execute_result"
    }
   ],
   "source": [
    "type(d)"
   ]
  },
  {
   "cell_type": "code",
   "execution_count": 9,
   "id": "36d4a9c2",
   "metadata": {},
   "outputs": [],
   "source": [
    "d1={1,2,34}"
   ]
  },
  {
   "cell_type": "code",
   "execution_count": 10,
   "id": "d7cec606",
   "metadata": {},
   "outputs": [
    {
     "data": {
      "text/plain": [
       "set"
      ]
     },
     "execution_count": 10,
     "metadata": {},
     "output_type": "execute_result"
    }
   ],
   "source": [
    "type(d1)"
   ]
  },
  {
   "cell_type": "code",
   "execution_count": 12,
   "id": "2c7ba1da",
   "metadata": {},
   "outputs": [],
   "source": [
    "d2 = {\"syed\":\"wasimuddin\",\"key2\":[2,3,4,5]}"
   ]
  },
  {
   "cell_type": "code",
   "execution_count": 13,
   "id": "09ae75a6",
   "metadata": {},
   "outputs": [
    {
     "data": {
      "text/plain": [
       "{'syed': 'wasimuddin', 'key2': [2, 3, 4, 5]}"
      ]
     },
     "execution_count": 13,
     "metadata": {},
     "output_type": "execute_result"
    }
   ],
   "source": [
    "d2"
   ]
  },
  {
   "cell_type": "code",
   "execution_count": 14,
   "id": "e7f52a95",
   "metadata": {},
   "outputs": [],
   "source": [
    "d3 = {12345:\"shaikh\"}"
   ]
  },
  {
   "cell_type": "code",
   "execution_count": 15,
   "id": "c1d293b9",
   "metadata": {},
   "outputs": [
    {
     "data": {
      "text/plain": [
       "{12345: 'shaikh'}"
      ]
     },
     "execution_count": 15,
     "metadata": {},
     "output_type": "execute_result"
    }
   ],
   "source": [
    "d3"
   ]
  },
  {
   "cell_type": "code",
   "execution_count": 1,
   "id": "ced306cd",
   "metadata": {},
   "outputs": [],
   "source": [
    "d4 = {(12,34,56):\"syed\"}"
   ]
  },
  {
   "cell_type": "code",
   "execution_count": 2,
   "id": "d20086c0",
   "metadata": {},
   "outputs": [
    {
     "data": {
      "text/plain": [
       "{(12, 34, 56): 'syed'}"
      ]
     },
     "execution_count": 2,
     "metadata": {},
     "output_type": "execute_result"
    }
   ],
   "source": [
    "d4"
   ]
  },
  {
   "cell_type": "code",
   "execution_count": 3,
   "id": "5a09b494",
   "metadata": {},
   "outputs": [
    {
     "ename": "TypeError",
     "evalue": "unhashable type: 'list'",
     "output_type": "error",
     "traceback": [
      "\u001b[1;31m---------------------------------------------------------------------------\u001b[0m",
      "\u001b[1;31mTypeError\u001b[0m                                 Traceback (most recent call last)",
      "Input \u001b[1;32mIn [3]\u001b[0m, in \u001b[0;36m<cell line: 1>\u001b[1;34m()\u001b[0m\n\u001b[1;32m----> 1\u001b[0m d5 \u001b[38;5;241m=\u001b[39m {[\u001b[38;5;241m1\u001b[39m,\u001b[38;5;241m2\u001b[39m,\u001b[38;5;241m3\u001b[39m]:\u001b[38;5;124m\"\u001b[39m\u001b[38;5;124mwasim\u001b[39m\u001b[38;5;124m\"\u001b[39m}\n",
      "\u001b[1;31mTypeError\u001b[0m: unhashable type: 'list'"
     ]
    }
   ],
   "source": [
    "d5 = {[1,2,3]:\"wasim\"}#List can not be key"
   ]
  },
  {
   "cell_type": "code",
   "execution_count": 10,
   "id": "063fb9c4",
   "metadata": {},
   "outputs": [],
   "source": [
    "d6 = {\"syed\":\"wasim\",\"college\":\"GCOEARA\",\"mail_id\":\"wasimuddinsyed02@gmail.com\",\"name\":\"aaftab\",\"nam1\":\"aaftab\",\"name\":\"jamal\"}"
   ]
  },
  {
   "cell_type": "code",
   "execution_count": 11,
   "id": "4f7bd323",
   "metadata": {},
   "outputs": [
    {
     "data": {
      "text/plain": [
       "{'syed': 'wasim',\n",
       " 'college': 'GCOEARA',\n",
       " 'mail_id': 'wasimuddinsyed02@gmail.com',\n",
       " 'name': 'jamal',\n",
       " 'nam1': 'aaftab'}"
      ]
     },
     "execution_count": 11,
     "metadata": {},
     "output_type": "execute_result"
    }
   ],
   "source": [
    "d6"
   ]
  },
  {
   "cell_type": "markdown",
   "id": "0192b647",
   "metadata": {},
   "source": [
    "KEYS CAN NOT BE REPEAT BUT VALUES MAY BE"
   ]
  },
  {
   "cell_type": "code",
   "execution_count": 12,
   "id": "d10ffe98",
   "metadata": {},
   "outputs": [
    {
     "data": {
      "text/plain": [
       "'wasim'"
      ]
     },
     "execution_count": 12,
     "metadata": {},
     "output_type": "execute_result"
    }
   ],
   "source": [
    "d6[\"syed\"]"
   ]
  },
  {
   "cell_type": "code",
   "execution_count": 14,
   "id": "7316358d",
   "metadata": {},
   "outputs": [
    {
     "ename": "KeyError",
     "evalue": "0",
     "output_type": "error",
     "traceback": [
      "\u001b[1;31m---------------------------------------------------------------------------\u001b[0m",
      "\u001b[1;31mKeyError\u001b[0m                                  Traceback (most recent call last)",
      "Input \u001b[1;32mIn [14]\u001b[0m, in \u001b[0;36m<cell line: 1>\u001b[1;34m()\u001b[0m\n\u001b[1;32m----> 1\u001b[0m \u001b[43md6\u001b[49m\u001b[43m[\u001b[49m\u001b[38;5;241;43m0\u001b[39;49m\u001b[43m]\u001b[49m\n",
      "\u001b[1;31mKeyError\u001b[0m: 0"
     ]
    }
   ],
   "source": [
    "d6[0]#dictionary can not be callled"
   ]
  },
  {
   "cell_type": "code",
   "execution_count": 15,
   "id": "fab5a36c",
   "metadata": {},
   "outputs": [
    {
     "data": {
      "text/plain": [
       "dict_keys(['syed', 'college', 'mail_id', 'name', 'nam1'])"
      ]
     },
     "execution_count": 15,
     "metadata": {},
     "output_type": "execute_result"
    }
   ],
   "source": [
    "d6.keys()"
   ]
  },
  {
   "cell_type": "code",
   "execution_count": 16,
   "id": "301b49d1",
   "metadata": {},
   "outputs": [
    {
     "data": {
      "text/plain": [
       "['syed', 'college', 'mail_id', 'name', 'nam1']"
      ]
     },
     "execution_count": 16,
     "metadata": {},
     "output_type": "execute_result"
    }
   ],
   "source": [
    "list(d6.keys())"
   ]
  },
  {
   "cell_type": "code",
   "execution_count": 18,
   "id": "b73ad567",
   "metadata": {},
   "outputs": [
    {
     "data": {
      "text/plain": [
       "dict_values(['wasim', 'GCOEARA', 'wasimuddinsyed02@gmail.com', 'jamal', 'aaftab'])"
      ]
     },
     "execution_count": 18,
     "metadata": {},
     "output_type": "execute_result"
    }
   ],
   "source": [
    "d6.values()"
   ]
  },
  {
   "cell_type": "code",
   "execution_count": 19,
   "id": "e3b6cce2",
   "metadata": {},
   "outputs": [
    {
     "data": {
      "text/plain": [
       "dict_items([('syed', 'wasim'), ('college', 'GCOEARA'), ('mail_id', 'wasimuddinsyed02@gmail.com'), ('name', 'jamal'), ('nam1', 'aaftab')])"
      ]
     },
     "execution_count": 19,
     "metadata": {},
     "output_type": "execute_result"
    }
   ],
   "source": [
    "d6.items()"
   ]
  },
  {
   "cell_type": "code",
   "execution_count": 22,
   "id": "f72c619f",
   "metadata": {},
   "outputs": [],
   "source": [
    "d6 = {\"syed\":\"wasim\",\"college\":\"GCOEARA\",\"mail_id\":\"wasimuddinsyed02@gmail.com\",\"name\":\"aaftab\",\"nam1\":\"aaftab\",\"name\":\"jamal\"}\n",
    "l = []\n",
    "for i in d6.keys():\n",
    "    if type(d6[i])==dict:\n",
    "        l.append(list(d6[i].values()))\n",
    "    "
   ]
  },
  {
   "cell_type": "code",
   "execution_count": 23,
   "id": "fb041318",
   "metadata": {},
   "outputs": [
    {
     "data": {
      "text/plain": [
       "[]"
      ]
     },
     "execution_count": 23,
     "metadata": {},
     "output_type": "execute_result"
    }
   ],
   "source": [
    "l"
   ]
  },
  {
   "cell_type": "code",
   "execution_count": 24,
   "id": "2909fd0d",
   "metadata": {},
   "outputs": [],
   "source": [
    "d6[\"syed\"] = \"Wasimuddin\""
   ]
  },
  {
   "cell_type": "code",
   "execution_count": 25,
   "id": "a63ff389",
   "metadata": {},
   "outputs": [
    {
     "data": {
      "text/plain": [
       "{'syed': 'Wasimuddin',\n",
       " 'college': 'GCOEARA',\n",
       " 'mail_id': 'wasimuddinsyed02@gmail.com',\n",
       " 'name': 'jamal',\n",
       " 'nam1': 'aaftab'}"
      ]
     },
     "execution_count": 25,
     "metadata": {},
     "output_type": "execute_result"
    }
   ],
   "source": [
    "d6"
   ]
  },
  {
   "cell_type": "code",
   "execution_count": 26,
   "id": "917b8303",
   "metadata": {},
   "outputs": [],
   "source": [
    "del d6[\"name\"]"
   ]
  },
  {
   "cell_type": "code",
   "execution_count": 27,
   "id": "966edd04",
   "metadata": {},
   "outputs": [
    {
     "data": {
      "text/plain": [
       "{'syed': 'Wasimuddin',\n",
       " 'college': 'GCOEARA',\n",
       " 'mail_id': 'wasimuddinsyed02@gmail.com',\n",
       " 'nam1': 'aaftab'}"
      ]
     },
     "execution_count": 27,
     "metadata": {},
     "output_type": "execute_result"
    }
   ],
   "source": [
    "d6"
   ]
  },
  {
   "cell_type": "code",
   "execution_count": 28,
   "id": "8294dee9",
   "metadata": {},
   "outputs": [
    {
     "data": {
      "text/plain": [
       "'aaftab'"
      ]
     },
     "execution_count": 28,
     "metadata": {},
     "output_type": "execute_result"
    }
   ],
   "source": [
    "d6.pop(\"nam1\")"
   ]
  },
  {
   "cell_type": "code",
   "execution_count": 29,
   "id": "fc23008c",
   "metadata": {},
   "outputs": [
    {
     "data": {
      "text/plain": [
       "{'syed': 'Wasimuddin',\n",
       " 'college': 'GCOEARA',\n",
       " 'mail_id': 'wasimuddinsyed02@gmail.com'}"
      ]
     },
     "execution_count": 29,
     "metadata": {},
     "output_type": "execute_result"
    }
   ],
   "source": [
    "d6"
   ]
  },
  {
   "cell_type": "code",
   "execution_count": 32,
   "id": "5136a1dc",
   "metadata": {},
   "outputs": [],
   "source": [
    "d6[\"work\"]=\"hard\"#Its for addition"
   ]
  },
  {
   "cell_type": "code",
   "execution_count": 33,
   "id": "4121bbd5",
   "metadata": {},
   "outputs": [
    {
     "data": {
      "text/plain": [
       "{'syed': 'Wasimuddin',\n",
       " 'college': 'GCOEARA',\n",
       " 'mail_id': 'wasimuddinsyed02@gmail.com',\n",
       " 'work': 'hard'}"
      ]
     },
     "execution_count": 33,
     "metadata": {},
     "output_type": "execute_result"
    }
   ],
   "source": [
    "d6"
   ]
  },
  {
   "cell_type": "code",
   "execution_count": 34,
   "id": "3804ac21",
   "metadata": {},
   "outputs": [],
   "source": [
    "def test7(**kwargs):\n",
    "    return kwargs"
   ]
  },
  {
   "cell_type": "code",
   "execution_count": 39,
   "id": "78c04f58",
   "metadata": {},
   "outputs": [
    {
     "data": {
      "text/plain": [
       "{'a': 5, 'b': 6, 'c': 9, 'wasim': [12, 34, 56, 78]}"
      ]
     },
     "execution_count": 39,
     "metadata": {},
     "output_type": "execute_result"
    }
   ],
   "source": [
    "test7(a=5,b=6,c=9,wasim=[12,34,56,78])"
   ]
  },
  {
   "cell_type": "code",
   "execution_count": 40,
   "id": "21dc3266",
   "metadata": {},
   "outputs": [
    {
     "data": {
      "text/plain": [
       "<function __main__.test7(**kwargs)>"
      ]
     },
     "execution_count": 40,
     "metadata": {},
     "output_type": "execute_result"
    }
   ],
   "source": [
    "test7"
   ]
  },
  {
   "cell_type": "code",
   "execution_count": 41,
   "id": "2ec06045",
   "metadata": {},
   "outputs": [],
   "source": [
    "def test8(a):\n",
    "    return a\n",
    "def test9(b):\n",
    "    return b\n",
    "def test10(func):\n",
    "    return func(\"wasim\")"
   ]
  },
  {
   "cell_type": "code",
   "execution_count": 42,
   "id": "ca6e5810",
   "metadata": {},
   "outputs": [
    {
     "data": {
      "text/plain": [
       "'wasim'"
      ]
     },
     "execution_count": 42,
     "metadata": {},
     "output_type": "execute_result"
    }
   ],
   "source": [
    "test10(test8)"
   ]
  },
  {
   "cell_type": "code",
   "execution_count": 43,
   "id": "f22d7bf5",
   "metadata": {},
   "outputs": [],
   "source": [
    "def test8(a):\n",
    "    return a\n",
    "def test9(b):\n",
    "    return \"wasim\"\n",
    "def test10(func):\n",
    "    return func(\"wasim\")"
   ]
  },
  {
   "cell_type": "code",
   "execution_count": 44,
   "id": "c6b7a270",
   "metadata": {},
   "outputs": [
    {
     "data": {
      "text/plain": [
       "'wasim'"
      ]
     },
     "execution_count": 44,
     "metadata": {},
     "output_type": "execute_result"
    }
   ],
   "source": [
    "test10(test9)"
   ]
  },
  {
   "cell_type": "code",
   "execution_count": 45,
   "id": "6d5c59a5",
   "metadata": {},
   "outputs": [],
   "source": [
    "def test8(a):\n",
    "    return a\n",
    "def test9(b):\n",
    "    return \"wasim\"\n",
    "def test10(func):\n",
    "    return func(\"syed\")"
   ]
  },
  {
   "cell_type": "code",
   "execution_count": 46,
   "id": "e531b4fb",
   "metadata": {},
   "outputs": [
    {
     "data": {
      "text/plain": [
       "'wasim'"
      ]
     },
     "execution_count": 46,
     "metadata": {},
     "output_type": "execute_result"
    }
   ],
   "source": [
    "test10(test9)"
   ]
  },
  {
   "cell_type": "code",
   "execution_count": 47,
   "id": "78e6c59a",
   "metadata": {},
   "outputs": [
    {
     "data": {
      "text/plain": [
       "'wasim'"
      ]
     },
     "execution_count": 47,
     "metadata": {},
     "output_type": "execute_result"
    }
   ],
   "source": [
    "test9(test10)"
   ]
  },
  {
   "cell_type": "code",
   "execution_count": 4,
   "id": "5683a46c",
   "metadata": {},
   "outputs": [],
   "source": [
    "def test15():\n",
    "    print(\"this is my test15\") \n",
    "    \n",
    "    def test16():\n",
    "        print(\"this is my test16\")\n",
    "        \n",
    "    def test17():\n",
    "        print(\"this is my test17\")\n",
    "        "
   ]
  },
  {
   "cell_type": "code",
   "execution_count": 5,
   "id": "4a01b261",
   "metadata": {},
   "outputs": [
    {
     "name": "stdout",
     "output_type": "stream",
     "text": [
      "this is my test15\n"
     ]
    }
   ],
   "source": [
    "test15()"
   ]
  },
  {
   "cell_type": "code",
   "execution_count": 12,
   "id": "b7fb70f3",
   "metadata": {},
   "outputs": [],
   "source": [
    "def test15(a):\n",
    "    print(\"this is my test15\") \n",
    "    \n",
    "    def test16():\n",
    "        print(\"this is my test16\")\n",
    "        \n",
    "    def test17():\n",
    "        print(\"this is my test17\")\n",
    "        \n",
    "    if a == \"wasimuddin\":\n",
    "        return test16()\n",
    "    elif a == \"syed\":\n",
    "        return test17()"
   ]
  },
  {
   "cell_type": "code",
   "execution_count": 13,
   "id": "2e3fffc6",
   "metadata": {},
   "outputs": [
    {
     "name": "stdout",
     "output_type": "stream",
     "text": [
      "this is my test15\n",
      "this is my test16\n"
     ]
    }
   ],
   "source": [
    "test15(\"wasimuddin\")"
   ]
  },
  {
   "cell_type": "code",
   "execution_count": 14,
   "id": "2290cc6a",
   "metadata": {},
   "outputs": [
    {
     "name": "stdout",
     "output_type": "stream",
     "text": [
      "this is my test15\n",
      "this is my test17\n"
     ]
    }
   ],
   "source": [
    "test15(\"syed\")"
   ]
  },
  {
   "cell_type": "code",
   "execution_count": 17,
   "id": "a0f0483c",
   "metadata": {},
   "outputs": [],
   "source": [
    "def test13(*args):\n",
    "    return \"wasim\""
   ]
  },
  {
   "cell_type": "code",
   "execution_count": 18,
   "id": "28ed3bef",
   "metadata": {},
   "outputs": [],
   "source": [
    "def test18(func):\n",
    "    def test19():\n",
    "        print(\"i am inside test19\")\n",
    "        func()\n",
    "    return test19()"
   ]
  },
  {
   "cell_type": "code",
   "execution_count": 20,
   "id": "70549133",
   "metadata": {},
   "outputs": [
    {
     "name": "stdout",
     "output_type": "stream",
     "text": [
      "i am inside test19\n"
     ]
    }
   ],
   "source": [
    "test18(test13)"
   ]
  },
  {
   "cell_type": "code",
   "execution_count": null,
   "id": "3d0b70b5",
   "metadata": {},
   "outputs": [],
   "source": []
  }
 ],
 "metadata": {
  "kernelspec": {
   "display_name": "Python 3 (ipykernel)",
   "language": "python",
   "name": "python3"
  },
  "language_info": {
   "codemirror_mode": {
    "name": "ipython",
    "version": 3
   },
   "file_extension": ".py",
   "mimetype": "text/x-python",
   "name": "python",
   "nbconvert_exporter": "python",
   "pygments_lexer": "ipython3",
   "version": "3.9.12"
  }
 },
 "nbformat": 4,
 "nbformat_minor": 5
}
