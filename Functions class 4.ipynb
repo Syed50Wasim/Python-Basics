{
 "cells": [
  {
   "cell_type": "code",
   "execution_count": 23,
   "id": "755aaa05",
   "metadata": {},
   "outputs": [],
   "source": [
    "def test1(func):\n",
    "    def test2():\n",
    "        print(\"i am inside test2\")\n",
    "        func()\n",
    "        print(func())\n",
    "        print(\"function executed \")\n",
    "        return func()\n",
    "    return test2"
   ]
  },
  {
   "cell_type": "code",
   "execution_count": 12,
   "id": "a7f662e9",
   "metadata": {},
   "outputs": [],
   "source": [
    "@test1\n",
    "def test3():\n",
    "    print(\"this is my test3\")"
   ]
  },
  {
   "cell_type": "code",
   "execution_count": 13,
   "id": "eddde9e6",
   "metadata": {},
   "outputs": [
    {
     "name": "stdout",
     "output_type": "stream",
     "text": [
      "i am inside test2\n",
      "this is my test3\n",
      "this is my test3\n",
      "None\n",
      "function executed \n"
     ]
    }
   ],
   "source": [
    "test3()"
   ]
  },
  {
   "cell_type": "code",
   "execution_count": 14,
   "id": "f762a0c2",
   "metadata": {},
   "outputs": [
    {
     "name": "stdout",
     "output_type": "stream",
     "text": [
      "i am inside test2\n",
      "this is my test3\n",
      "this is my test3\n",
      "None\n",
      "function executed \n"
     ]
    },
    {
     "data": {
      "text/plain": [
       "<function __main__.test1.<locals>.test2()>"
      ]
     },
     "execution_count": 14,
     "metadata": {},
     "output_type": "execute_result"
    }
   ],
   "source": [
    "test1(test3())"
   ]
  },
  {
   "cell_type": "code",
   "execution_count": 24,
   "id": "d5623a45",
   "metadata": {},
   "outputs": [],
   "source": [
    "@test1\n",
    "def test4():\n",
    "    return 5+6"
   ]
  },
  {
   "cell_type": "code",
   "execution_count": 25,
   "id": "643ac04c",
   "metadata": {},
   "outputs": [
    {
     "name": "stdout",
     "output_type": "stream",
     "text": [
      "i am inside test2\n",
      "11\n",
      "function executed \n"
     ]
    },
    {
     "data": {
      "text/plain": [
       "11"
      ]
     },
     "execution_count": 25,
     "metadata": {},
     "output_type": "execute_result"
    }
   ],
   "source": [
    "test4()"
   ]
  },
  {
   "cell_type": "code",
   "execution_count": 17,
   "id": "b34afae6",
   "metadata": {},
   "outputs": [],
   "source": [
    "def test5():\n",
    "    return 5+6"
   ]
  },
  {
   "cell_type": "code",
   "execution_count": 18,
   "id": "325588ae",
   "metadata": {},
   "outputs": [
    {
     "data": {
      "text/plain": [
       "11"
      ]
     },
     "execution_count": 18,
     "metadata": {},
     "output_type": "execute_result"
    }
   ],
   "source": [
    "test5()"
   ]
  },
  {
   "cell_type": "code",
   "execution_count": 19,
   "id": "98303df5",
   "metadata": {},
   "outputs": [
    {
     "data": {
      "text/plain": [
       "int"
      ]
     },
     "execution_count": 19,
     "metadata": {},
     "output_type": "execute_result"
    }
   ],
   "source": [
    "type(test5())"
   ]
  },
  {
   "cell_type": "code",
   "execution_count": 20,
   "id": "9b643c09",
   "metadata": {},
   "outputs": [
    {
     "data": {
      "text/plain": [
       "78"
      ]
     },
     "execution_count": 20,
     "metadata": {},
     "output_type": "execute_result"
    }
   ],
   "source": [
    "test5()+67"
   ]
  },
  {
   "cell_type": "code",
   "execution_count": 22,
   "id": "7ba8ad6a",
   "metadata": {},
   "outputs": [
    {
     "name": "stdout",
     "output_type": "stream",
     "text": [
      "i am inside test2\n",
      "11\n",
      "function executed \n"
     ]
    },
    {
     "data": {
      "text/plain": [
       "NoneType"
      ]
     },
     "execution_count": 22,
     "metadata": {},
     "output_type": "execute_result"
    }
   ],
   "source": [
    "type(test4())#Because it have decorator"
   ]
  },
  {
   "cell_type": "code",
   "execution_count": 1,
   "id": "e08b6df6",
   "metadata": {},
   "outputs": [],
   "source": [
    "def test5(func):\n",
    "    def test6():\n",
    "        print(\"This is in test6\")\n",
    "        func()\n",
    "        print(func())\n",
    "        print(\"This is my decorator function\")\n",
    "    return test6()"
   ]
  },
  {
   "cell_type": "code",
   "execution_count": 2,
   "id": "50ae7f65",
   "metadata": {},
   "outputs": [],
   "source": [
    "def test7():\n",
    "    return 5+7"
   ]
  },
  {
   "cell_type": "code",
   "execution_count": 3,
   "id": "714869c8",
   "metadata": {},
   "outputs": [
    {
     "data": {
      "text/plain": [
       "12"
      ]
     },
     "execution_count": 3,
     "metadata": {},
     "output_type": "execute_result"
    }
   ],
   "source": [
    "test7()"
   ]
  },
  {
   "cell_type": "code",
   "execution_count": 4,
   "id": "1f352531",
   "metadata": {},
   "outputs": [
    {
     "data": {
      "text/plain": [
       "25"
      ]
     },
     "execution_count": 4,
     "metadata": {},
     "output_type": "execute_result"
    }
   ],
   "source": [
    "test7()+13"
   ]
  },
  {
   "cell_type": "code",
   "execution_count": 5,
   "id": "8f4e4d73",
   "metadata": {},
   "outputs": [
    {
     "name": "stdout",
     "output_type": "stream",
     "text": [
      "This is in test6\n",
      "12\n",
      "This is my decorator function\n"
     ]
    }
   ],
   "source": [
    "@test5\n",
    "def test7():\n",
    "    return 5+7"
   ]
  },
  {
   "cell_type": "code",
   "execution_count": 8,
   "id": "f8fb25b8",
   "metadata": {},
   "outputs": [],
   "source": [
    "def test8(func):\n",
    "    def test9(*args,**kwargs):\n",
    "        func(*args,**kwargs)\n",
    "        print(func(*args,**kwargs))\n",
    "        print(\"This is my decorator function\")\n",
    "        return func(*args,**kwargs)\n",
    "    return test9"
   ]
  },
  {
   "cell_type": "code",
   "execution_count": 11,
   "id": "0f499505",
   "metadata": {},
   "outputs": [],
   "source": [
    "@test8\n",
    "def test10(a,b):\n",
    "    return a+b"
   ]
  },
  {
   "cell_type": "code",
   "execution_count": 12,
   "id": "afcedc3c",
   "metadata": {},
   "outputs": [
    {
     "name": "stdout",
     "output_type": "stream",
     "text": [
      "syedwasimuddin\n",
      "This is my decorator function\n"
     ]
    },
    {
     "data": {
      "text/plain": [
       "'syedwasimuddin'"
      ]
     },
     "execution_count": 12,
     "metadata": {},
     "output_type": "execute_result"
    }
   ],
   "source": [
    "test10(\"syed\",\"wasimuddin\")"
   ]
  },
  {
   "cell_type": "code",
   "execution_count": 54,
   "id": "92657be7",
   "metadata": {},
   "outputs": [],
   "source": [
    "@test8\n",
    "def test11(**kwargs):\n",
    "    return kwargs"
   ]
  },
  {
   "cell_type": "code",
   "execution_count": 55,
   "id": "9dde2fcb",
   "metadata": {},
   "outputs": [
    {
     "name": "stdout",
     "output_type": "stream",
     "text": [
      "{'a': 5, 'b': 'wasim'}\n",
      "This is my decorator function\n"
     ]
    },
    {
     "data": {
      "text/plain": [
       "{'a': 5, 'b': 'wasim'}"
      ]
     },
     "execution_count": 55,
     "metadata": {},
     "output_type": "execute_result"
    }
   ],
   "source": [
    "test11(a=5,b=\"wasim\")"
   ]
  },
  {
   "cell_type": "code",
   "execution_count": 56,
   "id": "48fe1d58",
   "metadata": {},
   "outputs": [],
   "source": [
    "def test12(**kwargs):\n",
    "    return kwargs"
   ]
  },
  {
   "cell_type": "code",
   "execution_count": 57,
   "id": "680f0ca7",
   "metadata": {},
   "outputs": [
    {
     "data": {
      "text/plain": [
       "{'a': 3, 'b': 'syed'}"
      ]
     },
     "execution_count": 57,
     "metadata": {},
     "output_type": "execute_result"
    }
   ],
   "source": [
    "test12(a=3,b=\"syed\")"
   ]
  },
  {
   "cell_type": "markdown",
   "id": "a5f2a2af",
   "metadata": {},
   "source": [
    "LAMBDA FUNCTION"
   ]
  },
  {
   "cell_type": "code",
   "execution_count": 67,
   "id": "0a73be2c",
   "metadata": {},
   "outputs": [],
   "source": [
    "c = lambda a,b,d: a+b+d"
   ]
  },
  {
   "cell_type": "code",
   "execution_count": 68,
   "id": "85844dd8",
   "metadata": {},
   "outputs": [
    {
     "data": {
      "text/plain": [
       "9"
      ]
     },
     "execution_count": 68,
     "metadata": {},
     "output_type": "execute_result"
    }
   ],
   "source": [
    "c(2,3,4)"
   ]
  },
  {
   "cell_type": "code",
   "execution_count": 69,
   "id": "53c76947",
   "metadata": {},
   "outputs": [],
   "source": [
    "z = lambda a,b,c,d:a*b+c/d"
   ]
  },
  {
   "cell_type": "code",
   "execution_count": 70,
   "id": "c9bcf9d1",
   "metadata": {},
   "outputs": [
    {
     "data": {
      "text/plain": [
       "35.888888888888886"
      ]
     },
     "execution_count": 70,
     "metadata": {},
     "output_type": "execute_result"
    }
   ],
   "source": [
    "z(5,7,8,9)"
   ]
  },
  {
   "cell_type": "code",
   "execution_count": 71,
   "id": "86be27b2",
   "metadata": {},
   "outputs": [],
   "source": [
    "e = lambda *args:args"
   ]
  },
  {
   "cell_type": "code",
   "execution_count": 72,
   "id": "ed4be2cc",
   "metadata": {},
   "outputs": [
    {
     "data": {
      "text/plain": [
       "<function __main__.<lambda>(*args)>"
      ]
     },
     "execution_count": 72,
     "metadata": {},
     "output_type": "execute_result"
    }
   ],
   "source": [
    "e"
   ]
  },
  {
   "cell_type": "code",
   "execution_count": 73,
   "id": "3fb60ec0",
   "metadata": {},
   "outputs": [
    {
     "data": {
      "text/plain": [
       "()"
      ]
     },
     "execution_count": 73,
     "metadata": {},
     "output_type": "execute_result"
    }
   ],
   "source": [
    "e()"
   ]
  },
  {
   "cell_type": "code",
   "execution_count": 74,
   "id": "b9acbde0",
   "metadata": {},
   "outputs": [
    {
     "data": {
      "text/plain": [
       "(3, 4, 5)"
      ]
     },
     "execution_count": 74,
     "metadata": {},
     "output_type": "execute_result"
    }
   ],
   "source": [
    "e(3,4,5)"
   ]
  },
  {
   "cell_type": "markdown",
   "id": "7b046e20",
   "metadata": {},
   "source": [
    "MAP()"
   ]
  },
  {
   "cell_type": "code",
   "execution_count": 77,
   "id": "7c5efcdd",
   "metadata": {},
   "outputs": [],
   "source": [
    "l = [1,2,3,4,5,6,7,8,9]\n",
    "l1 =[]\n",
    "for i in l:\n",
    "    l1.append(i+10)"
   ]
  },
  {
   "cell_type": "code",
   "execution_count": 78,
   "id": "ad42bbf2",
   "metadata": {},
   "outputs": [
    {
     "data": {
      "text/plain": [
       "[11, 12, 13, 14, 15, 16, 17, 18, 19]"
      ]
     },
     "execution_count": 78,
     "metadata": {},
     "output_type": "execute_result"
    }
   ],
   "source": [
    " l1\n",
    "    "
   ]
  },
  {
   "cell_type": "code",
   "execution_count": 79,
   "id": "6ff101a6",
   "metadata": {},
   "outputs": [],
   "source": [
    "def test13(a):\n",
    "    return a+10\n"
   ]
  },
  {
   "cell_type": "code",
   "execution_count": 81,
   "id": "8ebc6f58",
   "metadata": {},
   "outputs": [
    {
     "data": {
      "text/plain": [
       "[11, 12, 13, 14, 15, 16, 17, 18, 19]"
      ]
     },
     "execution_count": 81,
     "metadata": {},
     "output_type": "execute_result"
    }
   ],
   "source": [
    "list(map(test13,l))"
   ]
  },
  {
   "cell_type": "code",
   "execution_count": 83,
   "id": "104d4c9c",
   "metadata": {},
   "outputs": [
    {
     "data": {
      "text/plain": [
       "[11, 12, 13, 14, 15, 16, 17, 18, 19]"
      ]
     },
     "execution_count": 83,
     "metadata": {},
     "output_type": "execute_result"
    }
   ],
   "source": [
    "list(map(lambda a:a+10,l))"
   ]
  },
  {
   "cell_type": "code",
   "execution_count": 84,
   "id": "7c152eab",
   "metadata": {},
   "outputs": [],
   "source": [
    "l = [\"syed\",\"wasim\",\"ineuronfsds\"]"
   ]
  },
  {
   "cell_type": "code",
   "execution_count": 86,
   "id": "3e0fd764",
   "metadata": {},
   "outputs": [],
   "source": [
    "l1 = []\n",
    "for i in l:\n",
    "    l1.append(i.upper())\n",
    "    "
   ]
  },
  {
   "cell_type": "code",
   "execution_count": 87,
   "id": "7fcd16db",
   "metadata": {},
   "outputs": [
    {
     "data": {
      "text/plain": [
       "['SYED', 'WASIM', 'INEURONFSDS']"
      ]
     },
     "execution_count": 87,
     "metadata": {},
     "output_type": "execute_result"
    }
   ],
   "source": [
    "l1"
   ]
  },
  {
   "cell_type": "code",
   "execution_count": 89,
   "id": "868d184e",
   "metadata": {},
   "outputs": [
    {
     "data": {
      "text/plain": [
       "['SYED', 'WASIM', 'INEURONFSDS']"
      ]
     },
     "execution_count": 89,
     "metadata": {},
     "output_type": "execute_result"
    }
   ],
   "source": [
    "list(map(lambda a:a.upper(),l))"
   ]
  },
  {
   "cell_type": "code",
   "execution_count": 96,
   "id": "55f94d74",
   "metadata": {},
   "outputs": [
    {
     "data": {
      "text/plain": [
       "['syed', 'wasim', 'ineuronfsds']"
      ]
     },
     "execution_count": 96,
     "metadata": {},
     "output_type": "execute_result"
    }
   ],
   "source": [
    "list(map(lambda a:a.lower(),l))"
   ]
  },
  {
   "cell_type": "code",
   "execution_count": 97,
   "id": "0bbf6181",
   "metadata": {},
   "outputs": [],
   "source": [
    "def upper_string(a):\n",
    "    return a.upper()"
   ]
  },
  {
   "cell_type": "code",
   "execution_count": 101,
   "id": "a7c4096d",
   "metadata": {},
   "outputs": [],
   "source": [
    "l= [11,12,13,14,15,16,17,18,19,20]\n",
    "l1=[]\n",
    "for i in l:\n",
    "    if i%2==0:\n",
    "        l1.append(i)\n",
    "        "
   ]
  },
  {
   "cell_type": "code",
   "execution_count": 102,
   "id": "ce30fee2",
   "metadata": {},
   "outputs": [
    {
     "data": {
      "text/plain": [
       "[12, 14, 16, 18, 20]"
      ]
     },
     "execution_count": 102,
     "metadata": {},
     "output_type": "execute_result"
    }
   ],
   "source": [
    "l1"
   ]
  },
  {
   "cell_type": "code",
   "execution_count": 104,
   "id": "88738cfb",
   "metadata": {},
   "outputs": [
    {
     "data": {
      "text/plain": [
       "[12, 14, 16, 18, 20]"
      ]
     },
     "execution_count": 104,
     "metadata": {},
     "output_type": "execute_result"
    }
   ],
   "source": [
    "[i for i in l if i%2==0]"
   ]
  },
  {
   "cell_type": "code",
   "execution_count": 24,
   "id": "d9a3bf6d",
   "metadata": {},
   "outputs": [],
   "source": [
    "l= [11,12,13,14,15,16,17,18,19,20]\n",
    "def test24(a):\n",
    "    l =[]\n",
    "    if type(a)==list:\n",
    "        for i in a:\n",
    "            if i %2==0:\n",
    "                l.append(i)\n",
    "    return l\n",
    "        "
   ]
  },
  {
   "cell_type": "code",
   "execution_count": 25,
   "id": "7ceec5b9",
   "metadata": {},
   "outputs": [
    {
     "data": {
      "text/plain": [
       "[12, 14, 16, 18, 20]"
      ]
     },
     "execution_count": 25,
     "metadata": {},
     "output_type": "execute_result"
    }
   ],
   "source": [
    "test24(l)"
   ]
  },
  {
   "cell_type": "code",
   "execution_count": 26,
   "id": "3e96b268",
   "metadata": {},
   "outputs": [
    {
     "data": {
      "text/plain": [
       "[11, 12, 13, 14, 15, 16, 17, 18, 19, 20]"
      ]
     },
     "execution_count": 26,
     "metadata": {},
     "output_type": "execute_result"
    }
   ],
   "source": [
    "l"
   ]
  },
  {
   "cell_type": "code",
   "execution_count": 27,
   "id": "a9c05084",
   "metadata": {},
   "outputs": [],
   "source": [
    "a = lambda l:l if l%2==0 else None"
   ]
  },
  {
   "cell_type": "code",
   "execution_count": 29,
   "id": "0d72dd09",
   "metadata": {},
   "outputs": [
    {
     "data": {
      "text/plain": [
       "[None, 12, None, 14, None, 16, None, 18, None, 20]"
      ]
     },
     "execution_count": 29,
     "metadata": {},
     "output_type": "execute_result"
    }
   ],
   "source": [
    "list(map(a , l))"
   ]
  },
  {
   "cell_type": "code",
   "execution_count": 30,
   "id": "76985e22",
   "metadata": {},
   "outputs": [
    {
     "data": {
      "text/plain": [
       "[12, 14, 16, 18, 20]"
      ]
     },
     "execution_count": 30,
     "metadata": {},
     "output_type": "execute_result"
    }
   ],
   "source": [
    "list(filter(a,l))"
   ]
  },
  {
   "cell_type": "code",
   "execution_count": 34,
   "id": "cecc4861",
   "metadata": {},
   "outputs": [],
   "source": [
    "def test25(a):\n",
    "    if a%2==0:\n",
    "        return True\n",
    "    else:\n",
    "        return False"
   ]
  },
  {
   "cell_type": "code",
   "execution_count": 35,
   "id": "3a01fb17",
   "metadata": {},
   "outputs": [
    {
     "data": {
      "text/plain": [
       "True"
      ]
     },
     "execution_count": 35,
     "metadata": {},
     "output_type": "execute_result"
    }
   ],
   "source": [
    "test25(32)"
   ]
  },
  {
   "cell_type": "code",
   "execution_count": 36,
   "id": "4007b3a8",
   "metadata": {},
   "outputs": [
    {
     "data": {
      "text/plain": [
       "False"
      ]
     },
     "execution_count": 36,
     "metadata": {},
     "output_type": "execute_result"
    }
   ],
   "source": [
    "test25(33)"
   ]
  },
  {
   "cell_type": "code",
   "execution_count": 38,
   "id": "89dffea3",
   "metadata": {},
   "outputs": [
    {
     "data": {
      "text/plain": [
       "[12, 14, 16, 18, 20]"
      ]
     },
     "execution_count": 38,
     "metadata": {},
     "output_type": "execute_result"
    }
   ],
   "source": [
    "list(filter(test25,l))"
   ]
  },
  {
   "cell_type": "code",
   "execution_count": 39,
   "id": "9ef90b99",
   "metadata": {},
   "outputs": [
    {
     "data": {
      "text/plain": [
       "155"
      ]
     },
     "execution_count": 39,
     "metadata": {},
     "output_type": "execute_result"
    }
   ],
   "source": [
    "sum(l)"
   ]
  },
  {
   "cell_type": "code",
   "execution_count": 40,
   "id": "35fda90a",
   "metadata": {},
   "outputs": [],
   "source": [
    "from functools import reduce"
   ]
  },
  {
   "cell_type": "code",
   "execution_count": 41,
   "id": "833ed7fa",
   "metadata": {},
   "outputs": [
    {
     "data": {
      "text/plain": [
       "670442572800"
      ]
     },
     "execution_count": 41,
     "metadata": {},
     "output_type": "execute_result"
    }
   ],
   "source": [
    "reduce(lambda a,b: a*b , l)"
   ]
  },
  {
   "cell_type": "code",
   "execution_count": 42,
   "id": "7b40caf8",
   "metadata": {},
   "outputs": [
    {
     "data": {
      "text/plain": [
       "4"
      ]
     },
     "execution_count": 42,
     "metadata": {},
     "output_type": "execute_result"
    }
   ],
   "source": [
    "#Exception in Reduce function\n",
    "l1 =[4]\n",
    "reduce(lambda a,b:a*b,l1)"
   ]
  },
  {
   "cell_type": "code",
   "execution_count": 51,
   "id": "a4c58e69",
   "metadata": {},
   "outputs": [],
   "source": [
    "def test27(a:int,b : \"func\",c:int =234) ->int:#\n",
    "    \"this is my doc  string to give a hint to next programmer\"\n",
    "    return a+b+str(c)"
   ]
  },
  {
   "cell_type": "code",
   "execution_count": 52,
   "id": "b11aad7b",
   "metadata": {},
   "outputs": [
    {
     "data": {
      "text/plain": [
       "'wasimsyed345'"
      ]
     },
     "execution_count": 52,
     "metadata": {},
     "output_type": "execute_result"
    }
   ],
   "source": [
    "test27(\"wasim\",\"syed\",345)"
   ]
  },
  {
   "cell_type": "code",
   "execution_count": null,
   "id": "11ca24da",
   "metadata": {},
   "outputs": [],
   "source": []
  }
 ],
 "metadata": {
  "kernelspec": {
   "display_name": "Python 3 (ipykernel)",
   "language": "python",
   "name": "python3"
  },
  "language_info": {
   "codemirror_mode": {
    "name": "ipython",
    "version": 3
   },
   "file_extension": ".py",
   "mimetype": "text/x-python",
   "name": "python",
   "nbconvert_exporter": "python",
   "pygments_lexer": "ipython3",
   "version": "3.9.12"
  }
 },
 "nbformat": 4,
 "nbformat_minor": 5
}
