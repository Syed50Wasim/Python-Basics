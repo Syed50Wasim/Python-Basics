{
 "cells": [
  {
   "cell_type": "raw",
   "id": "c5d58079",
   "metadata": {},
   "source": [
    "LOGICAL OPERATORS:-\n",
    "KEYWORDS    MEANING\n",
    "not         unary negation\n",
    "and         conditional AND\n",
    "or          conditiuonal or "
   ]
  },
  {
   "cell_type": "markdown",
   "id": "278f6d43",
   "metadata": {},
   "source": [
    "Conditionat NOT"
   ]
  },
  {
   "cell_type": "code",
   "execution_count": 3,
   "id": "d4a6925c",
   "metadata": {},
   "outputs": [
    {
     "name": "stdout",
     "output_type": "stream",
     "text": [
      "Execute this staments \n"
     ]
    }
   ],
   "source": [
    "condition = True\n",
    "if condition:\n",
    "    print(\"Execute this staments \")\n",
    "else:\n",
    "    print(\"If Condition is not true\")"
   ]
  },
  {
   "cell_type": "markdown",
   "id": "62a9699e",
   "metadata": {},
   "source": [
    "If its raining lets work from home else lets go to the office "
   ]
  },
  {
   "cell_type": "code",
   "execution_count": 5,
   "id": "f5df4857",
   "metadata": {},
   "outputs": [
    {
     "name": "stdout",
     "output_type": "stream",
     "text": [
      "Lets do work from home\n"
     ]
    }
   ],
   "source": [
    "raining = True\n",
    "if raining:#True Condition\n",
    "    print(\"Lets do work from home\")#This statement is executed\n",
    "else:\n",
    "    print(\"Lets go to the office\")\n",
    "    "
   ]
  },
  {
   "cell_type": "markdown",
   "id": "32b6b412",
   "metadata": {},
   "source": [
    "If it NOT raining lets go to the office ELSE work from home"
   ]
  },
  {
   "cell_type": "code",
   "execution_count": 6,
   "id": "117a94b6",
   "metadata": {},
   "outputs": [
    {
     "name": "stdout",
     "output_type": "stream",
     "text": [
      "Lets go to the office\n"
     ]
    }
   ],
   "source": [
    "raining = False\n",
    "if raining:#False Condition\n",
    "    print(\"Lets do work from home\")\n",
    "else:\n",
    "    print(\"Lets go to the office\")\n",
    "    "
   ]
  },
  {
   "cell_type": "markdown",
   "id": "1188e946",
   "metadata": {},
   "source": [
    "If Class started lets concentrate else revise "
   ]
  },
  {
   "cell_type": "code",
   "execution_count": 8,
   "id": "f5d79503",
   "metadata": {},
   "outputs": [
    {
     "name": "stdout",
     "output_type": "stream",
     "text": [
      "Lets concentrate\n"
     ]
    }
   ],
   "source": [
    "Class_started = True\n",
    "if Class_started:\n",
    "    print(\"Lets concentrate\")\n",
    "else:\n",
    "    print(\"lets revise\")"
   ]
  },
  {
   "cell_type": "markdown",
   "id": "c41d1ef6",
   "metadata": {},
   "source": [
    "If Class not started lets revise else concentrate"
   ]
  },
  {
   "cell_type": "code",
   "execution_count": 10,
   "id": "7ccd72ce",
   "metadata": {},
   "outputs": [
    {
     "name": "stdout",
     "output_type": "stream",
     "text": [
      "Lets Concentrate\n"
     ]
    }
   ],
   "source": [
    "Class_started = False\n",
    "if Class_started :\n",
    "    print(\"Lets revise\")\n",
    "else:\n",
    "    print(\"Lets Concentrate\")"
   ]
  },
  {
   "cell_type": "markdown",
   "id": "8875b553",
   "metadata": {},
   "source": [
    "and -CONDITIONAL AND "
   ]
  },
  {
   "cell_type": "raw",
   "id": "a8909fdd",
   "metadata": {},
   "source": [
    "vegetable  salt  dish\n",
    "-          -       -\n",
    "False      False  False\n",
    "False      True   False\n",
    "True       False  False\n",
    "True       True   True"
   ]
  },
  {
   "cell_type": "code",
   "execution_count": 11,
   "id": "50e925d9",
   "metadata": {},
   "outputs": [
    {
     "name": "stdout",
     "output_type": "stream",
     "text": [
      "Its a good dish\n"
     ]
    }
   ],
   "source": [
    "vegetable_present = True\n",
    "Salt_present = True\n",
    "\n",
    "if vegetable_present and Salt_present:#This condition is truer as both the condition is true\n",
    "    print(\"Its a good dish\")\n",
    "else:\n",
    "    print(\"Its a bad dish\")\n",
    "    print(f\"because vegetable_present:{vegetable_present}\")\n",
    "    print(f\"because Salt_present:{Salt_present}\")"
   ]
  },
  {
   "cell_type": "code",
   "execution_count": 12,
   "id": "5d4ce634",
   "metadata": {},
   "outputs": [
    {
     "name": "stdout",
     "output_type": "stream",
     "text": [
      "Its a bad dish\n",
      "because vegetable_present:True\n",
      "because Salt_present:False\n"
     ]
    }
   ],
   "source": [
    "vegetable_present = True\n",
    "Salt_present = False\n",
    "\n",
    "if vegetable_present and Salt_present:\n",
    "    print(\"Its a good dish\")\n",
    "else:\n",
    "    print(\"Its a bad dish\")\n",
    "    print(f\"because vegetable_present:{vegetable_present}\")\n",
    "    print(f\"because Salt_present:{Salt_present}\")"
   ]
  },
  {
   "cell_type": "code",
   "execution_count": 13,
   "id": "fa7922d0",
   "metadata": {},
   "outputs": [
    {
     "name": "stdout",
     "output_type": "stream",
     "text": [
      "Its a bad dish\n",
      "because vegetable_present:False\n",
      "because Salt_present:True\n"
     ]
    }
   ],
   "source": [
    "vegetable_present = False\n",
    "Salt_present = True\n",
    "\n",
    "if vegetable_present and Salt_present:\n",
    "    print(\"Its a good dish\")\n",
    "else:\n",
    "    print(\"Its a bad dish\")\n",
    "    print(f\"because vegetable_present:{vegetable_present}\")\n",
    "    print(f\"because Salt_present:{Salt_present}\")"
   ]
  },
  {
   "cell_type": "code",
   "execution_count": 14,
   "id": "47fca4e4",
   "metadata": {},
   "outputs": [
    {
     "name": "stdout",
     "output_type": "stream",
     "text": [
      "Its a bad dish\n",
      "because vegetable_present:False\n",
      "because Salt_present:False\n"
     ]
    }
   ],
   "source": [
    "vegetable_present = False\n",
    "Salt_present = False\n",
    "\n",
    "if vegetable_present and Salt_present:\n",
    "    print(\"Its a good dish\")\n",
    "else:\n",
    "    print(\"Its a bad dish\")\n",
    "    print(f\"because vegetable_present:{vegetable_present}\")\n",
    "    print(f\"because Salt_present:{Salt_present}\")"
   ]
  },
  {
   "cell_type": "markdown",
   "id": "40ee21f0",
   "metadata": {},
   "source": [
    "or - OR conditional statement"
   ]
  },
  {
   "cell_type": "raw",
   "id": "c66b4335",
   "metadata": {},
   "source": [
    "If i have a car or bike then i can travel 100 km in a day\n",
    "Car   bike   travel\n",
    "False False  False \n",
    "Fase  True   True\n",
    "True  False  True\n",
    "True  True   True"
   ]
  },
  {
   "cell_type": "code",
   "execution_count": 16,
   "id": "81178b88",
   "metadata": {},
   "outputs": [
    {
     "name": "stdout",
     "output_type": "stream",
     "text": [
      "I can travel 100k per day\n"
     ]
    }
   ],
   "source": [
    "i_own_car = True\n",
    "i_own_bike = True\n",
    "\n",
    "if i_own_car or i_own_bike:\n",
    "    print(\"I can travel 100k per day\")\n",
    "else:\n",
    "    print(\"I am stuck i dont have car or bike !\")"
   ]
  },
  {
   "cell_type": "code",
   "execution_count": 17,
   "id": "3a07f784",
   "metadata": {},
   "outputs": [
    {
     "name": "stdout",
     "output_type": "stream",
     "text": [
      "I am stuck i dont have car or bike !\n"
     ]
    }
   ],
   "source": [
    "i_own_car = False\n",
    "i_own_bike = False\n",
    "\n",
    "if i_own_car or i_own_bike:\n",
    "    print(\"I can travel 100k per day\")\n",
    "else:\n",
    "    print(\"I am stuck i dont have car or bike !\")"
   ]
  },
  {
   "cell_type": "code",
   "execution_count": 18,
   "id": "609e172b",
   "metadata": {},
   "outputs": [
    {
     "name": "stdout",
     "output_type": "stream",
     "text": [
      "I can travel 100k per day\n"
     ]
    }
   ],
   "source": [
    "i_own_car = True\n",
    "i_own_bike = False\n",
    "\n",
    "if i_own_car or i_own_bike:\n",
    "    print(\"I can travel 100k per day\")\n",
    "else:\n",
    "    print(\"I am stuck i dont have car or bike !\")"
   ]
  },
  {
   "cell_type": "code",
   "execution_count": 19,
   "id": "f910d49f",
   "metadata": {},
   "outputs": [
    {
     "name": "stdout",
     "output_type": "stream",
     "text": [
      "I can travel 100k per day\n"
     ]
    }
   ],
   "source": [
    "i_own_car = False\n",
    "i_own_bike = True\n",
    "\n",
    "if i_own_car or i_own_bike:\n",
    "    print(\"I can travel 100k per day\")\n",
    "else:\n",
    "    print(\"I am stuck i dont have car or bike !\")"
   ]
  },
  {
   "cell_type": "raw",
   "id": "73418771",
   "metadata": {},
   "source": [
    "#conclusion\n",
    "use and operator when youe want all condition to be true\n",
    "ose or operator when you want if anyone condition to be true"
   ]
  },
  {
   "cell_type": "raw",
   "id": "b21f6af0",
   "metadata": {},
   "source": [
    "EXAMPLE:-\n",
    "attendance  assignement  you_eligibe_for_exam\n",
    ">=75%        >=70%         True\n"
   ]
  },
  {
   "cell_type": "code",
   "execution_count": 24,
   "id": "b9503559",
   "metadata": {},
   "outputs": [
    {
     "name": "stdout",
     "output_type": "stream",
     "text": [
      "True\n",
      "False\n",
      "Student is not eligible to appear in exam\n"
     ]
    }
   ],
   "source": [
    "attendance = 80\n",
    "assignment_submitted = 60\n",
    "\n",
    "print(attendance>=75)\n",
    "print(assignment_submitted>=70)\n",
    "\n",
    "if attendance>=75 and assignment_submitted>=70:\n",
    "    print(\"The student is eligibe to appear in final exam \")\n",
    "else:\n",
    "    print(\"Student is not eligible to appear in exam\")"
   ]
  },
  {
   "cell_type": "code",
   "execution_count": 25,
   "id": "e82c17db",
   "metadata": {},
   "outputs": [
    {
     "name": "stdout",
     "output_type": "stream",
     "text": [
      "True\n",
      "True\n",
      "The student is eligibe to appear in final exam \n"
     ]
    }
   ],
   "source": [
    "attendance = 80\n",
    "assignment_submitted = 80\n",
    "\n",
    "print(attendance>=75)\n",
    "print(assignment_submitted>=70)\n",
    "\n",
    "if attendance>=75 and assignment_submitted>=70:\n",
    "    print(\"The student is eligibe to appear in final exam \")\n",
    "else:\n",
    "    print(\"Student is not eligible to appear in exam\")"
   ]
  },
  {
   "cell_type": "code",
   "execution_count": 27,
   "id": "1a98e7af",
   "metadata": {},
   "outputs": [
    {
     "name": "stdout",
     "output_type": "stream",
     "text": [
      "attendance criteria match?:False\n",
      "assignment criteria match?:False\n",
      "Student is not eligible to appear in exam\n"
     ]
    }
   ],
   "source": [
    "attendance = 50\n",
    "assignment_submitted = 60\n",
    "\n",
    "print(f\"attendance criteria match?:{attendance>=75}\")\n",
    "print(f\"assignment criteria match?:{assignment_submitted>=70}\")\n",
    "\n",
    "if attendance>=75 and assignment_submitted>=70:\n",
    "    print(\"The student is eligibe to appear in final exam \")\n",
    "else:\n",
    "    print(\"Student is not eligible to appear in exam\")"
   ]
  },
  {
   "cell_type": "raw",
   "id": "220bfc94",
   "metadata": {},
   "source": [
    "EXAMPLE:-\n",
    "credit_card   Debit_card      purcharse_book_from_online\n",
    "True          True            True\n",
    "False         False           True"
   ]
  },
  {
   "cell_type": "code",
   "execution_count": 30,
   "id": "3140ed3c",
   "metadata": {},
   "outputs": [
    {
     "name": "stdout",
     "output_type": "stream",
     "text": [
      "Ask from my dad for debit card or credit card?\n",
      "Cash on devlivery?\n"
     ]
    }
   ],
   "source": [
    "own_credit_card = False\n",
    "own_debit_card = False\n",
    "Net_banking = False\n",
    "if own_credit_card or own_debit_card or Net_banking :\n",
    "    print(\"proceed further for payment\")\n",
    "else:\n",
    "    print(\"Ask from my dad for debit card or credit card?\")\n",
    "    print(\"Cash on devlivery?\")\n",
    "    "
   ]
  },
  {
   "cell_type": "code",
   "execution_count": 32,
   "id": "a60af87c",
   "metadata": {},
   "outputs": [
    {
     "name": "stdout",
     "output_type": "stream",
     "text": [
      "proceed further for payment\n"
     ]
    }
   ],
   "source": [
    "own_credit_card = False\n",
    "own_debit_card = False\n",
    "Net_banking = True\n",
    "if own_credit_card or own_debit_card or Net_banking :\n",
    "    print(\"proceed further for payment\")\n",
    "else:\n",
    "    print(\"Ask from my dad for debit card or credit card?\")\n",
    "    print(\"Cash on devlivery?\")\n",
    "    "
   ]
  },
  {
   "cell_type": "code",
   "execution_count": 34,
   "id": "2fa861c0",
   "metadata": {},
   "outputs": [
    {
     "name": "stdout",
     "output_type": "stream",
     "text": [
      "attendance criteria match?:True\n",
      "assignment criteria match?:True\n",
      "Sports criteria match?:False\n",
      "The student is eligibe to appear in final exam \n"
     ]
    }
   ],
   "source": [
    "#Complex problems\n",
    "attendance = 80#Mandatory\n",
    "assignment_submitted = 90#Mandotory\n",
    "sports_player = False#not mandator\n",
    "\n",
    "print(f\"attendance criteria match?:{attendance>=75}\")\n",
    "print(f\"assignment criteria match?:{assignment_submitted>=70}\")\n",
    "print(f\"Sports criteria match?:{sports_player}\")\n",
    "\n",
    "if attendance>=75 and assignment_submitted>=70:\n",
    "    if sports_player:\n",
    "        print(\"The student can get marks +=10 \")\n",
    "    else:\n",
    "        print(\"The student is eligibe to appear in final exam \")\n",
    "else:\n",
    "    print(\"Student is not eligible to appear in exam\")\n",
    "    "
   ]
  },
  {
   "cell_type": "code",
   "execution_count": 35,
   "id": "894feeba",
   "metadata": {},
   "outputs": [
    {
     "name": "stdout",
     "output_type": "stream",
     "text": [
      "attendance criteria match?:False\n",
      "assignment criteria match?:False\n",
      "Sports criteria match?:True\n",
      "Student is not eligible to appear in exam\n"
     ]
    }
   ],
   "source": [
    "#Complex problems adn nested if else\n",
    "attendance = 50#Mandatory\n",
    "assignment_submitted = 40#Mandotory\n",
    "sports_player = True#not mandator\n",
    "\n",
    "print(f\"attendance criteria match?:{attendance>=75}\")\n",
    "print(f\"assignment criteria match?:{assignment_submitted>=70}\")\n",
    "print(f\"Sports criteria match?:{sports_player}\")\n",
    "\n",
    "if attendance>=75 and assignment_submitted>=70:\n",
    "    if sports_player:\n",
    "        print(\"The student can get marks +=10 \")\n",
    "    else:\n",
    "        print(\"The student is eligibe to appear in final exam \")\n",
    "else:\n",
    "    print(\"Student is not eligible to appear in exam\")\n",
    "    "
   ]
  },
  {
   "cell_type": "markdown",
   "id": "dbe48573",
   "metadata": {},
   "source": [
    "EQUALITY OPERATOR "
   ]
  },
  {
   "cell_type": "raw",
   "id": "2857b3a1",
   "metadata": {},
   "source": [
    "operator     uses         Meaning\n",
    "is           A is B       return True if A and B points to the same objects\n",
    "is not       A is not B   return True if A and B do not points to the same object\n",
    "==           A == B       A is eual to B\n",
    "!=           A!= B        A is not equal to B"
   ]
  },
  {
   "cell_type": "code",
   "execution_count": 36,
   "id": "68f8061e",
   "metadata": {},
   "outputs": [
    {
     "name": "stdout",
     "output_type": "stream",
     "text": [
      "A and B is same\n"
     ]
    }
   ],
   "source": [
    "A = 1\n",
    "B = 1\n",
    "\n",
    "if  A is B:\n",
    "    print(\"A and B is same\")\n",
    "else:\n",
    "    print(\"A and B is not same\")\n",
    "    "
   ]
  },
  {
   "cell_type": "code",
   "execution_count": 37,
   "id": "8d7ac3de",
   "metadata": {},
   "outputs": [
    {
     "name": "stdout",
     "output_type": "stream",
     "text": [
      "A and B is not same\n"
     ]
    }
   ],
   "source": [
    "A = 1\n",
    "B = 2\n",
    "\n",
    "if  A is B:\n",
    "    print(\"A and B is same\")\n",
    "else:\n",
    "    print(\"A and B is not same\")\n",
    "    "
   ]
  },
  {
   "cell_type": "code",
   "execution_count": 46,
   "id": "1f96113a",
   "metadata": {},
   "outputs": [
    {
     "name": "stdout",
     "output_type": "stream",
     "text": [
      "A and B is same\n"
     ]
    }
   ],
   "source": [
    "A = 1\n",
    "B = 1\n",
    "\n",
    "if  A == B:\n",
    "    print(\"A and B is same\")\n",
    "else:\n",
    "    print(\"A and B is not same\")\n",
    "    "
   ]
  },
  {
   "cell_type": "code",
   "execution_count": 47,
   "id": "aafa73fc",
   "metadata": {},
   "outputs": [
    {
     "data": {
      "text/plain": [
       "1859463571760"
      ]
     },
     "execution_count": 47,
     "metadata": {},
     "output_type": "execute_result"
    }
   ],
   "source": [
    "id(A)"
   ]
  },
  {
   "cell_type": "code",
   "execution_count": 48,
   "id": "de3f7d82",
   "metadata": {},
   "outputs": [
    {
     "data": {
      "text/plain": [
       "1859463571760"
      ]
     },
     "execution_count": 48,
     "metadata": {},
     "output_type": "execute_result"
    }
   ],
   "source": [
    "id(B)#Address memory is same for both A and B"
   ]
  },
  {
   "cell_type": "code",
   "execution_count": 43,
   "id": "27cf469d",
   "metadata": {},
   "outputs": [
    {
     "name": "stdout",
     "output_type": "stream",
     "text": [
      "A and B is not same\n"
     ]
    }
   ],
   "source": [
    "A = 1\n",
    "B = 4\n",
    "\n",
    "if  A != B:\n",
    "    print(\"A and B is not same\")\n",
    "else:\n",
    "    print(\"A and B is same\")\n",
    "    "
   ]
  },
  {
   "cell_type": "code",
   "execution_count": 49,
   "id": "85403f3e",
   "metadata": {},
   "outputs": [
    {
     "data": {
      "text/plain": [
       "False"
      ]
     },
     "execution_count": 49,
     "metadata": {},
     "output_type": "execute_result"
    }
   ],
   "source": [
    "A = \"Wasim\"\n",
    "B = \"WASIM\"\n",
    "A is B"
   ]
  },
  {
   "cell_type": "code",
   "execution_count": 50,
   "id": "6912d3db",
   "metadata": {},
   "outputs": [
    {
     "data": {
      "text/plain": [
       "True"
      ]
     },
     "execution_count": 50,
     "metadata": {},
     "output_type": "execute_result"
    }
   ],
   "source": [
    "A = \"Wasim\"\n",
    "B = \"Wasim\"\n",
    "A is B"
   ]
  },
  {
   "cell_type": "code",
   "execution_count": 51,
   "id": "05e25b08",
   "metadata": {},
   "outputs": [
    {
     "name": "stdout",
     "output_type": "stream",
     "text": [
      "Enter the value of A:12\n",
      "Enter the value of B:21\n"
     ]
    },
    {
     "data": {
      "text/plain": [
       "False"
      ]
     },
     "execution_count": 51,
     "metadata": {},
     "output_type": "execute_result"
    }
   ],
   "source": [
    "A = int(input(\"Enter the value of A:\"))\n",
    "B = int(input(\"Enter the value of B:\"))\n",
    "A is B"
   ]
  },
  {
   "cell_type": "code",
   "execution_count": 52,
   "id": "35631942",
   "metadata": {},
   "outputs": [
    {
     "name": "stdout",
     "output_type": "stream",
     "text": [
      "Enter the value of A:12\n",
      "Enter the value of B:12\n"
     ]
    },
    {
     "data": {
      "text/plain": [
       "True"
      ]
     },
     "execution_count": 52,
     "metadata": {},
     "output_type": "execute_result"
    }
   ],
   "source": [
    "A = int(input(\"Enter the value of A:\"))\n",
    "B = int(input(\"Enter the value of B:\"))\n",
    "A is B"
   ]
  },
  {
   "cell_type": "code",
   "execution_count": 54,
   "id": "32825639",
   "metadata": {},
   "outputs": [
    {
     "name": "stdout",
     "output_type": "stream",
     "text": [
      "He is the mentor\n"
     ]
    }
   ],
   "source": [
    "name = \"Syed Wasimuddin\"\n",
    "if name == \"Syed Wasimuddin\":\n",
    "    print(f\"He is the mentor\")\n",
    "else:\n",
    "    print(\"Its possible that he is a student\")\n",
    "          "
   ]
  },
  {
   "cell_type": "code",
   "execution_count": 55,
   "id": "de5d222c",
   "metadata": {},
   "outputs": [
    {
     "name": "stdout",
     "output_type": "stream",
     "text": [
      "Enter your name:Syed Wasimuddin\n",
      "He is the mentor\n"
     ]
    }
   ],
   "source": [
    "name = input(\"Enter your name:\")\n",
    "if name == \"Syed Wasimuddin\":\n",
    "    print(f\"He is the mentor\")\n",
    "else:\n",
    "    print(\"Its possible that he is a student\")\n",
    "          "
   ]
  },
  {
   "cell_type": "code",
   "execution_count": 56,
   "id": "83c4e470",
   "metadata": {},
   "outputs": [
    {
     "name": "stdout",
     "output_type": "stream",
     "text": [
      "Enter your name:Syed Hafiz\n",
      "Its possible that he is a student\n"
     ]
    }
   ],
   "source": [
    "name = input(\"Enter your name:\")\n",
    "if name == \"Syed Wasimuddin\":\n",
    "    print(f\"He is the mentor\")\n",
    "else:\n",
    "    print(\"Its possible that he is a student\")\n",
    "    \n",
    "          "
   ]
  },
  {
   "cell_type": "raw",
   "id": "03bc7c07",
   "metadata": {},
   "source": [
    "COMPARISION OPERATORS"
   ]
  },
  {
   "cell_type": "raw",
   "id": "8fad5b08",
   "metadata": {},
   "source": [
    "Operation   Meaning \n",
    "--           --\n",
    "<           A<B\n",
    "<=          A<=B\n",
    ">           A>B\n",
    ">=          A>=B\n"
   ]
  },
  {
   "cell_type": "code",
   "execution_count": 57,
   "id": "4ee4c60b",
   "metadata": {},
   "outputs": [
    {
     "name": "stdout",
     "output_type": "stream",
     "text": [
      "since You have scored with : 40,you have passed the exam \n"
     ]
    }
   ],
   "source": [
    "your_score = 40\n",
    "passing_marks = 33.33\n",
    "\n",
    "if your_score>=33.33:\n",
    "    print(f\"since You have scored with : {your_score},you have passed the exam \")\n",
    "else:\n",
    "    print(\"Dad: You should have taken things seriously\")\n",
    "    \n"
   ]
  },
  {
   "cell_type": "code",
   "execution_count": 61,
   "id": "3979bd4a",
   "metadata": {},
   "outputs": [
    {
     "name": "stdout",
     "output_type": "stream",
     "text": [
      "since You have scored with : 90,you have passed the exam \n",
      "Dad: I will buy you bike!!  Well done\n"
     ]
    }
   ],
   "source": [
    "your_score = 90\n",
    "passing_marks = 33.33\n",
    "distiction_marks = 75\n",
    "\n",
    "if your_score>33.33:#Stric case\n",
    "    print(f\"since You have scored with : {your_score},you have passed the exam \")\n",
    "    if your_score > distiction_marks:\n",
    "        print(\"Dad: I will buy you bike!!  Well done\")\n",
    "else:\n",
    "    print(\"Dad: You should have taken things seriously\")\n",
    "    "
   ]
  },
  {
   "cell_type": "raw",
   "id": "36e9ec16",
   "metadata": {},
   "source": [
    "ARITHMATIC OPERATORS"
   ]
  },
  {
   "cell_type": "raw",
   "id": "6c070789",
   "metadata": {},
   "source": [
    "Operation     Meaning\n",
    "+             Addition\n",
    "-             Substraction\n",
    "*             Multiplication\n",
    "/             True division\n",
    "//            integer division\n",
    "%             The modulo operator\n"
   ]
  },
  {
   "cell_type": "code",
   "execution_count": 62,
   "id": "8db692bc",
   "metadata": {},
   "outputs": [
    {
     "data": {
      "text/plain": [
       "5"
      ]
     },
     "execution_count": 62,
     "metadata": {},
     "output_type": "execute_result"
    }
   ],
   "source": [
    "a = 2\n",
    "b = 3\n",
    "a+b"
   ]
  },
  {
   "cell_type": "code",
   "execution_count": 63,
   "id": "e2621c63",
   "metadata": {},
   "outputs": [
    {
     "data": {
      "text/plain": [
       "1"
      ]
     },
     "execution_count": 63,
     "metadata": {},
     "output_type": "execute_result"
    }
   ],
   "source": [
    "b-a"
   ]
  },
  {
   "cell_type": "code",
   "execution_count": 64,
   "id": "a9253e14",
   "metadata": {},
   "outputs": [
    {
     "data": {
      "text/plain": [
       "6"
      ]
     },
     "execution_count": 64,
     "metadata": {},
     "output_type": "execute_result"
    }
   ],
   "source": [
    "a*b"
   ]
  },
  {
   "cell_type": "code",
   "execution_count": 67,
   "id": "9b72a1ef",
   "metadata": {},
   "outputs": [
    {
     "data": {
      "text/plain": [
       "0.6666666666666666"
      ]
     },
     "execution_count": 67,
     "metadata": {},
     "output_type": "execute_result"
    }
   ],
   "source": [
    "a/b"
   ]
  },
  {
   "cell_type": "code",
   "execution_count": 65,
   "id": "3594147b",
   "metadata": {},
   "outputs": [
    {
     "data": {
      "text/plain": [
       "0"
      ]
     },
     "execution_count": 65,
     "metadata": {},
     "output_type": "execute_result"
    }
   ],
   "source": [
    "a//b"
   ]
  },
  {
   "cell_type": "code",
   "execution_count": 66,
   "id": "e00e70b2",
   "metadata": {},
   "outputs": [
    {
     "data": {
      "text/plain": [
       "2"
      ]
     },
     "execution_count": 66,
     "metadata": {},
     "output_type": "execute_result"
    }
   ],
   "source": [
    "a%b"
   ]
  },
  {
   "cell_type": "code",
   "execution_count": 68,
   "id": "ea26af04",
   "metadata": {},
   "outputs": [
    {
     "name": "stdout",
     "output_type": "stream",
     "text": [
      "A: 54 is divisible by B: 2\n"
     ]
    }
   ],
   "source": [
    "A = 54\n",
    "B = 2\n",
    "\n",
    "if A%B ==0:\n",
    "    print(f\"A: {A} is divisible by B: {B}\")\n",
    "else:\n",
    "    print(f\"A: {A} is not divisible by B: {B}\")"
   ]
  },
  {
   "cell_type": "code",
   "execution_count": 70,
   "id": "3b2173fb",
   "metadata": {},
   "outputs": [
    {
     "name": "stdout",
     "output_type": "stream",
     "text": [
      "A: 54 is not divisible by B: 5\n"
     ]
    }
   ],
   "source": [
    "A = 54\n",
    "B = 5\n",
    "\n",
    "if A%B ==0:\n",
    "    print(f\"A: {A} is divisible by B: {B}\")\n",
    "else:\n",
    "    print(f\"A: {A} is not divisible by B: {B}\")"
   ]
  },
  {
   "cell_type": "code",
   "execution_count": 73,
   "id": "36f606d6",
   "metadata": {},
   "outputs": [
    {
     "data": {
      "text/plain": [
       "2.0"
      ]
     },
     "execution_count": 73,
     "metadata": {},
     "output_type": "execute_result"
    }
   ],
   "source": [
    "A = 4\n",
    "A**(1/2)"
   ]
  },
  {
   "cell_type": "code",
   "execution_count": null,
   "id": "fc382ad6",
   "metadata": {},
   "outputs": [],
   "source": []
  }
 ],
 "metadata": {
  "kernelspec": {
   "display_name": "Python 3 (ipykernel)",
   "language": "python",
   "name": "python3"
  },
  "language_info": {
   "codemirror_mode": {
    "name": "ipython",
    "version": 3
   },
   "file_extension": ".py",
   "mimetype": "text/x-python",
   "name": "python",
   "nbconvert_exporter": "python",
   "pygments_lexer": "ipython3",
   "version": "3.9.12"
  }
 },
 "nbformat": 4,
 "nbformat_minor": 5
}
