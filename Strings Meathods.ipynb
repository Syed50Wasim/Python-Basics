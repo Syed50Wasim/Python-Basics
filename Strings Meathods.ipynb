{
 "cells": [
  {
   "cell_type": "code",
   "execution_count": 1,
   "id": "1f3a3474",
   "metadata": {},
   "outputs": [
    {
     "data": {
      "text/plain": [
       "'W'"
      ]
     },
     "execution_count": 1,
     "metadata": {},
     "output_type": "execute_result"
    }
   ],
   "source": [
    "name = \"Wasim\"\n",
    "name[0]"
   ]
  },
  {
   "cell_type": "code",
   "execution_count": 2,
   "id": "f3653210",
   "metadata": {},
   "outputs": [
    {
     "data": {
      "text/plain": [
       "'a'"
      ]
     },
     "execution_count": 2,
     "metadata": {},
     "output_type": "execute_result"
    }
   ],
   "source": [
    "name[1]#This is the string indexing"
   ]
  },
  {
   "cell_type": "code",
   "execution_count": 3,
   "id": "4257c38f",
   "metadata": {},
   "outputs": [
    {
     "data": {
      "text/plain": [
       "'i'"
      ]
     },
     "execution_count": 3,
     "metadata": {},
     "output_type": "execute_result"
    }
   ],
   "source": [
    "name[-2]"
   ]
  },
  {
   "cell_type": "code",
   "execution_count": 4,
   "id": "8190a53d",
   "metadata": {},
   "outputs": [
    {
     "data": {
      "text/plain": [
       "'m'"
      ]
     },
     "execution_count": 4,
     "metadata": {},
     "output_type": "execute_result"
    }
   ],
   "source": [
    "name[-1]"
   ]
  },
  {
   "cell_type": "code",
   "execution_count": 5,
   "id": "f8206a16",
   "metadata": {},
   "outputs": [
    {
     "data": {
      "text/plain": [
       "5"
      ]
     },
     "execution_count": 5,
     "metadata": {},
     "output_type": "execute_result"
    }
   ],
   "source": [
    "len(name)"
   ]
  },
  {
   "cell_type": "raw",
   "id": "0548a35e",
   "metadata": {},
   "source": [
    "If N characters of elements are there in string  then:\n",
    "-The Index range will be vary from 0 to N-1\n",
    "-for exampole in \"Wasim\" N = 5\n",
    "-index value ranging from 0 to 4\n",
    "-To index in reverse order the index ranges from -1 to -N\n",
    "\"WASIM\"\n",
    "\"01234\"\n",
    "\"-5-4-3-2-1\"This is the reverse order"
   ]
  },
  {
   "cell_type": "code",
   "execution_count": 7,
   "id": "7aa7fee4",
   "metadata": {},
   "outputs": [
    {
     "data": {
      "text/plain": [
       "'asim'"
      ]
     },
     "execution_count": 7,
     "metadata": {},
     "output_type": "execute_result"
    }
   ],
   "source": [
    "name[1:]"
   ]
  },
  {
   "cell_type": "code",
   "execution_count": 8,
   "id": "7d924cfa",
   "metadata": {},
   "outputs": [
    {
     "data": {
      "text/plain": [
       "'asi'"
      ]
     },
     "execution_count": 8,
     "metadata": {},
     "output_type": "execute_result"
    }
   ],
   "source": [
    "name[1:4]"
   ]
  },
  {
   "cell_type": "code",
   "execution_count": 9,
   "id": "f3d08774",
   "metadata": {},
   "outputs": [
    {
     "data": {
      "text/plain": [
       "'Wasim'"
      ]
     },
     "execution_count": 9,
     "metadata": {},
     "output_type": "execute_result"
    }
   ],
   "source": [
    "name[-5:]"
   ]
  },
  {
   "cell_type": "code",
   "execution_count": 10,
   "id": "c771147d",
   "metadata": {},
   "outputs": [
    {
     "data": {
      "text/plain": [
       "'Wa'"
      ]
     },
     "execution_count": 10,
     "metadata": {},
     "output_type": "execute_result"
    }
   ],
   "source": [
    "name[-5:-3]"
   ]
  },
  {
   "cell_type": "code",
   "execution_count": 15,
   "id": "e28389f7",
   "metadata": {},
   "outputs": [
    {
     "data": {
      "text/plain": [
       "'Wa'"
      ]
     },
     "execution_count": 15,
     "metadata": {},
     "output_type": "execute_result"
    }
   ],
   "source": [
    "name[:-3]"
   ]
  },
  {
   "cell_type": "code",
   "execution_count": 16,
   "id": "717d3202",
   "metadata": {},
   "outputs": [
    {
     "data": {
      "text/plain": [
       "'asi'"
      ]
     },
     "execution_count": 16,
     "metadata": {},
     "output_type": "execute_result"
    }
   ],
   "source": [
    "name[-4:-1]"
   ]
  },
  {
   "cell_type": "code",
   "execution_count": 18,
   "id": "53b236e0",
   "metadata": {},
   "outputs": [],
   "source": [
    "date = \"12/07/2023\""
   ]
  },
  {
   "cell_type": "code",
   "execution_count": 24,
   "id": "312d0c1a",
   "metadata": {},
   "outputs": [
    {
     "name": "stdout",
     "output_type": "stream",
     "text": [
      "its 12th of the month 07 of the year:2023\n"
     ]
    }
   ],
   "source": [
    "#index 0123456789\n",
    "date = \"12/07/2023\"\n",
    "#Todays-date, month, year\n",
    "todays_date = date[0:2]\n",
    "month = date[3:5]\n",
    "year = date[6:]\n",
    "print(f\"its { todays_date}th of the month {month } of the year:{year}\")"
   ]
  },
  {
   "cell_type": "code",
   "execution_count": 27,
   "id": "6b725bde",
   "metadata": {},
   "outputs": [
    {
     "name": "stdout",
     "output_type": "stream",
     "text": [
      "Enter date of bearth in the format DD/MM/YYYY: 21/05/2002\n",
      "the user was born in the month of 05 in the year:2002 on date: 21\n"
     ]
    }
   ],
   "source": [
    "#index 0123456789\n",
    "data = input(\"Enter date of bearth in the format DD/MM/YYYY: \")\n",
    "#Todays-date, month, year\n",
    "date = data[0:2]\n",
    "month = data[3:5]\n",
    "year = data[6:]\n",
    "print(f\"the user was born in the month of {month } in the year:{year} on date: {date}\")"
   ]
  },
  {
   "cell_type": "markdown",
   "id": "97d99d80",
   "metadata": {},
   "source": [
    "SLICING"
   ]
  },
  {
   "cell_type": "code",
   "execution_count": 28,
   "id": "ea943b92",
   "metadata": {},
   "outputs": [
    {
     "data": {
      "text/plain": [
       "'Wsm'"
      ]
     },
     "execution_count": 28,
     "metadata": {},
     "output_type": "execute_result"
    }
   ],
   "source": [
    "name = \"Wasim\"\n",
    "name[0:5:2]#Start : Stop : Step"
   ]
  },
  {
   "cell_type": "code",
   "execution_count": 29,
   "id": "bde6f7c0",
   "metadata": {},
   "outputs": [
    {
     "data": {
      "text/plain": [
       "'W'"
      ]
     },
     "execution_count": 29,
     "metadata": {},
     "output_type": "execute_result"
    }
   ],
   "source": [
    "name[0::5]"
   ]
  },
  {
   "cell_type": "code",
   "execution_count": 30,
   "id": "a72bab77",
   "metadata": {},
   "outputs": [
    {
     "data": {
      "text/plain": [
       "'Wi'"
      ]
     },
     "execution_count": 30,
     "metadata": {},
     "output_type": "execute_result"
    }
   ],
   "source": [
    "#step is 3  -> W__i_\n",
    "name[0:5:3]"
   ]
  },
  {
   "cell_type": "code",
   "execution_count": 32,
   "id": "a79f7884",
   "metadata": {},
   "outputs": [
    {
     "data": {
      "text/plain": [
       "'Se aiudnZkrHsi'"
      ]
     },
     "execution_count": 32,
     "metadata": {},
     "output_type": "execute_result"
    }
   ],
   "source": [
    "name = \"Syed Wasimuddin Zakir Husain\"\n",
    "name[0::2]    "
   ]
  },
  {
   "cell_type": "code",
   "execution_count": 33,
   "id": "3a323865",
   "metadata": {},
   "outputs": [
    {
     "data": {
      "text/plain": [
       "'S'"
      ]
     },
     "execution_count": 33,
     "metadata": {},
     "output_type": "execute_result"
    }
   ],
   "source": [
    "name[0::-1]"
   ]
  },
  {
   "cell_type": "code",
   "execution_count": 35,
   "id": "a30cd605",
   "metadata": {},
   "outputs": [
    {
     "data": {
      "text/plain": [
       "'Syed Wasimuddin Zakir Husain'"
      ]
     },
     "execution_count": 35,
     "metadata": {},
     "output_type": "execute_result"
    }
   ],
   "source": [
    "name[::]"
   ]
  },
  {
   "cell_type": "code",
   "execution_count": 36,
   "id": "b5e95976",
   "metadata": {},
   "outputs": [
    {
     "data": {
      "text/plain": [
       "'niasuH rikaZ niddumisaW deyS'"
      ]
     },
     "execution_count": 36,
     "metadata": {},
     "output_type": "execute_result"
    }
   ],
   "source": [
    "name[::-1]#Reverse"
   ]
  },
  {
   "cell_type": "code",
   "execution_count": 37,
   "id": "ee1ad787",
   "metadata": {},
   "outputs": [
    {
     "data": {
      "text/plain": [
       "'nau ia idmsWdy'"
      ]
     },
     "execution_count": 37,
     "metadata": {},
     "output_type": "execute_result"
    }
   ],
   "source": [
    "name[::-2]#Reverse with skipping two charaters"
   ]
  },
  {
   "cell_type": "code",
   "execution_count": 40,
   "id": "f8a1c32a",
   "metadata": {},
   "outputs": [
    {
     "name": "stdout",
     "output_type": "stream",
     "text": [
      "input a string:radar\n",
      "Input string : radar is palindrome\n"
     ]
    }
   ],
   "source": [
    "data = input(\"input a string:\")\n",
    "reverse = data[::-1]\n",
    "\n",
    "if data == reverse :\n",
    "    print(f\"Input string : {data} is palindrome\")\n",
    "else:\n",
    "    print(f\"Input string : {data} is NOT a palindrome\")"
   ]
  },
  {
   "cell_type": "code",
   "execution_count": 2,
   "id": "f54db7e4",
   "metadata": {},
   "outputs": [
    {
     "name": "stdout",
     "output_type": "stream",
     "text": [
      "input a string:wasim\n",
      "Input string : wasim is NOT a palindrome\n"
     ]
    }
   ],
   "source": [
    "data = input(\"input a string:\")\n",
    "reverse = data[::-1]\n",
    "\n",
    "if data == reverse :\n",
    "    print(f\"Input string : {data} is palindrome\")\n",
    "else:\n",
    "    print(f\"Input string : {data} is NOT a palindrome\")"
   ]
  },
  {
   "cell_type": "raw",
   "id": "6a8ef262",
   "metadata": {},
   "source": [
    "MUTABILITY :- It means subject to change"
   ]
  },
  {
   "cell_type": "code",
   "execution_count": 4,
   "id": "eda47a67",
   "metadata": {},
   "outputs": [
    {
     "ename": "TypeError",
     "evalue": "'str' object does not support item assignment",
     "output_type": "error",
     "traceback": [
      "\u001b[1;31m---------------------------------------------------------------------------\u001b[0m",
      "\u001b[1;31mTypeError\u001b[0m                                 Traceback (most recent call last)",
      "Input \u001b[1;32mIn [4]\u001b[0m, in \u001b[0;36m<cell line: 5>\u001b[1;34m()\u001b[0m\n\u001b[0;32m      1\u001b[0m name \u001b[38;5;241m=\u001b[39m \u001b[38;5;124m\"\u001b[39m\u001b[38;5;124mWasim\u001b[39m\u001b[38;5;124m\"\u001b[39m\n\u001b[0;32m      3\u001b[0m \u001b[38;5;66;03m#Replace W with F?\u001b[39;00m\n\u001b[1;32m----> 5\u001b[0m name[\u001b[38;5;241m0\u001b[39m] \u001b[38;5;241m=\u001b[39m \u001b[38;5;124m\"\u001b[39m\u001b[38;5;124mF\u001b[39m\u001b[38;5;124m\"\u001b[39m\n",
      "\u001b[1;31mTypeError\u001b[0m: 'str' object does not support item assignment"
     ]
    }
   ],
   "source": [
    "name = \"Wasim\"\n",
    "\n",
    "#Replace W with F?\n",
    "\n",
    "name[0] = \"F\"#Immutable means we can not change"
   ]
  },
  {
   "cell_type": "code",
   "execution_count": 5,
   "id": "6b954949",
   "metadata": {},
   "outputs": [
    {
     "data": {
      "text/plain": [
       "'Fasim'"
      ]
     },
     "execution_count": 5,
     "metadata": {},
     "output_type": "execute_result"
    }
   ],
   "source": [
    "#But we can add like this\n",
    "name = \"F\" + name[1:]\n",
    "name"
   ]
  },
  {
   "cell_type": "code",
   "execution_count": 6,
   "id": "3b947464",
   "metadata": {},
   "outputs": [],
   "source": [
    "name = name.replace(\"s\",\"oooo\")"
   ]
  },
  {
   "cell_type": "code",
   "execution_count": 7,
   "id": "0a66aac5",
   "metadata": {},
   "outputs": [
    {
     "data": {
      "text/plain": [
       "'Faooooim'"
      ]
     },
     "execution_count": 7,
     "metadata": {},
     "output_type": "execute_result"
    }
   ],
   "source": [
    "name"
   ]
  },
  {
   "cell_type": "code",
   "execution_count": 8,
   "id": "1f104c67",
   "metadata": {},
   "outputs": [
    {
     "data": {
      "text/plain": [
       "'Syed_Wasimuddin_Zakir_Husain'"
      ]
     },
     "execution_count": 8,
     "metadata": {},
     "output_type": "execute_result"
    }
   ],
   "source": [
    "name = \"Syed Wasimuddin Zakir Husain\"\n",
    "name.replace(\" \",\"_\")"
   ]
  },
  {
   "cell_type": "raw",
   "id": "edb7454a",
   "metadata": {},
   "source": [
    "LENGTH OF THE STRING "
   ]
  },
  {
   "cell_type": "code",
   "execution_count": 9,
   "id": "8f8c70ca",
   "metadata": {},
   "outputs": [],
   "source": [
    "name = \"Wasim\""
   ]
  },
  {
   "cell_type": "code",
   "execution_count": 10,
   "id": "5621d735",
   "metadata": {},
   "outputs": [
    {
     "data": {
      "text/plain": [
       "5"
      ]
     },
     "execution_count": 10,
     "metadata": {},
     "output_type": "execute_result"
    }
   ],
   "source": [
    "len(name)"
   ]
  },
  {
   "cell_type": "code",
   "execution_count": 17,
   "id": "971bdd2d",
   "metadata": {},
   "outputs": [],
   "source": [
    "name = \" Wasim   \""
   ]
  },
  {
   "cell_type": "code",
   "execution_count": 18,
   "id": "49c1eebd",
   "metadata": {},
   "outputs": [
    {
     "data": {
      "text/plain": [
       "9"
      ]
     },
     "execution_count": 18,
     "metadata": {},
     "output_type": "execute_result"
    }
   ],
   "source": [
    "len(name)"
   ]
  },
  {
   "cell_type": "code",
   "execution_count": 19,
   "id": "b3131585",
   "metadata": {},
   "outputs": [
    {
     "data": {
      "text/plain": [
       "'Wasim'"
      ]
     },
     "execution_count": 19,
     "metadata": {},
     "output_type": "execute_result"
    }
   ],
   "source": [
    "name.replace(\" \",\"\")"
   ]
  },
  {
   "cell_type": "code",
   "execution_count": 20,
   "id": "27129692",
   "metadata": {},
   "outputs": [
    {
     "data": {
      "text/plain": [
       "9"
      ]
     },
     "execution_count": 20,
     "metadata": {},
     "output_type": "execute_result"
    }
   ],
   "source": [
    "len(name)"
   ]
  },
  {
   "cell_type": "code",
   "execution_count": 21,
   "id": "66e5efb6",
   "metadata": {},
   "outputs": [],
   "source": [
    "name = \"Syed Wasimuddin \""
   ]
  },
  {
   "cell_type": "raw",
   "id": "96f2b2a2",
   "metadata": {},
   "source": [
    "COUNT SPECIFIC CHARATERS IN STRING"
   ]
  },
  {
   "cell_type": "code",
   "execution_count": 22,
   "id": "00f3f1c7",
   "metadata": {},
   "outputs": [],
   "source": [
    "name = \"Wasimuddin\""
   ]
  },
  {
   "cell_type": "code",
   "execution_count": 25,
   "id": "db30ba58",
   "metadata": {},
   "outputs": [
    {
     "data": {
      "text/plain": [
       "2"
      ]
     },
     "execution_count": 25,
     "metadata": {},
     "output_type": "execute_result"
    }
   ],
   "source": [
    "name.count('d')"
   ]
  },
  {
   "cell_type": "code",
   "execution_count": 26,
   "id": "e813ea8d",
   "metadata": {},
   "outputs": [
    {
     "data": {
      "text/plain": [
       "1"
      ]
     },
     "execution_count": 26,
     "metadata": {},
     "output_type": "execute_result"
    }
   ],
   "source": [
    "name.count('s')"
   ]
  },
  {
   "cell_type": "raw",
   "id": "4ceba160",
   "metadata": {},
   "source": [
    "SPLIT OPERATION"
   ]
  },
  {
   "cell_type": "code",
   "execution_count": 27,
   "id": "88fb6c99",
   "metadata": {},
   "outputs": [],
   "source": [
    "name = \"Syed Wasimuddin Zakir Husain\""
   ]
  },
  {
   "cell_type": "code",
   "execution_count": 28,
   "id": "7abc1e56",
   "metadata": {},
   "outputs": [
    {
     "data": {
      "text/plain": [
       "['Syed', 'Wasimuddin', 'Zakir', 'Husain']"
      ]
     },
     "execution_count": 28,
     "metadata": {},
     "output_type": "execute_result"
    }
   ],
   "source": [
    "name.split(\" \")"
   ]
  },
  {
   "cell_type": "code",
   "execution_count": 29,
   "id": "e826ee67",
   "metadata": {},
   "outputs": [
    {
     "data": {
      "text/plain": [
       "['Syed Wasimuddin Zakir Husain']"
      ]
     },
     "execution_count": 29,
     "metadata": {},
     "output_type": "execute_result"
    }
   ],
   "source": [
    "name.split(\".\")"
   ]
  },
  {
   "cell_type": "code",
   "execution_count": 30,
   "id": "7d03e779",
   "metadata": {},
   "outputs": [
    {
     "data": {
      "text/plain": [
       "['Syed Wasimuddin Zakir Husain']"
      ]
     },
     "execution_count": 30,
     "metadata": {},
     "output_type": "execute_result"
    }
   ],
   "source": [
    "name.split(\"/\")"
   ]
  },
  {
   "cell_type": "raw",
   "id": "ef7fbe2d",
   "metadata": {},
   "source": [
    "IMPORTANT POINTS"
   ]
  },
  {
   "cell_type": "code",
   "execution_count": 31,
   "id": "b60b348a",
   "metadata": {},
   "outputs": [
    {
     "name": "stdout",
     "output_type": "stream",
     "text": [
      "Enter your name:Syed WASimuddin ZakIR HusaiN\n",
      "User input:Syed WASimuddin ZakIR HusaiN\n",
      "name in upper case:SYED WASIMUDDIN ZAKIR HUSAIN\n",
      "name in lower case:syed wasimuddin zakir husain\n",
      "name in title case:Syed Wasimuddin Zakir Husain\n",
      "name in capitilize case:Syed wasimuddin zakir husain\n",
      "name in swapcase case:sYED wasIMUDDIN zAKir hUSAIn\n"
     ]
    }
   ],
   "source": [
    "name = input(\"Enter your name:\")\n",
    "\n",
    "print(f\"User input:{name}\")\n",
    "print(f\"name in upper case:{name.upper()}\")\n",
    "print(f\"name in lower case:{name.lower()}\")\n",
    "print(f\"name in title case:{name.title()}\")\n",
    "print(f\"name in capitilize case:{name.capitalize()}\")\n",
    "print(f\"name in swapcase case:{name.swapcase()}\")"
   ]
  },
  {
   "cell_type": "code",
   "execution_count": 32,
   "id": "8eb84122",
   "metadata": {},
   "outputs": [
    {
     "name": "stdout",
     "output_type": "stream",
     "text": [
      "User input:Today is the best DAY of my corporate life\n",
      "name in upper case:TODAY IS THE BEST DAY OF MY CORPORATE LIFE\n",
      "name in lower case:today is the best day of my corporate life\n",
      "name in title case:Today Is The Best Day Of My Corporate Life\n",
      "name in capitilize case:Today is the best day of my corporate life\n",
      "name in swapcase case:tODAY IS THE BEST day OF MY CORPORATE LIFE\n"
     ]
    }
   ],
   "source": [
    "name = \"Today is the best DAY of my corporate life\"\n",
    "\n",
    "print(f\"User input:{name}\")\n",
    "print(f\"name in upper case:{name.upper()}\")\n",
    "print(f\"name in lower case:{name.lower()}\")\n",
    "print(f\"name in title case:{name.title()}\")\n",
    "print(f\"name in capitilize case:{name.capitalize()}\")\n",
    "print(f\"name in swapcase case:{name.swapcase()}\")"
   ]
  },
  {
   "cell_type": "raw",
   "id": "92bec9d6",
   "metadata": {},
   "source": [
    "    JOIN MEATHOD #It means in between"
   ]
  },
  {
   "cell_type": "code",
   "execution_count": 35,
   "id": "79ba8efc",
   "metadata": {},
   "outputs": [
    {
     "data": {
      "text/plain": [
       "'S*y*e*d* *W*a*s*i*m*u*d*d*i*n* *Z*a*k*i*r* *H*u*s*a*i*n'"
      ]
     },
     "execution_count": 35,
     "metadata": {},
     "output_type": "execute_result"
    }
   ],
   "source": [
    "name = \"Syed Wasimuddin Zakir Husain\"\n",
    "\n",
    "\"*\".join(name)"
   ]
  },
  {
   "cell_type": "code",
   "execution_count": 36,
   "id": "cc8b38d2",
   "metadata": {},
   "outputs": [
    {
     "data": {
      "text/plain": [
       "'S|y|e|d| |W|a|s|i|m|u|d|d|i|n| |Z|a|k|i|r| |H|u|s|a|i|n'"
      ]
     },
     "execution_count": 36,
     "metadata": {},
     "output_type": "execute_result"
    }
   ],
   "source": [
    "\"|\".join(name)"
   ]
  },
  {
   "cell_type": "code",
   "execution_count": 37,
   "id": "12b218e9",
   "metadata": {},
   "outputs": [],
   "source": [
    "#Remove extra spaces front and back of the string"
   ]
  },
  {
   "cell_type": "code",
   "execution_count": 38,
   "id": "e283d0ca",
   "metadata": {},
   "outputs": [],
   "source": [
    "name = \" WASIM  \""
   ]
  },
  {
   "cell_type": "code",
   "execution_count": 40,
   "id": "dd8c47a3",
   "metadata": {},
   "outputs": [
    {
     "data": {
      "text/plain": [
       "'WASIM'"
      ]
     },
     "execution_count": 40,
     "metadata": {},
     "output_type": "execute_result"
    }
   ],
   "source": [
    "name.strip(\" \")#strip is meanthod to remove the extra space or space"
   ]
  },
  {
   "cell_type": "code",
   "execution_count": 42,
   "id": "1b1dfff5",
   "metadata": {},
   "outputs": [
    {
     "data": {
      "text/plain": [
       "'WASIM  '"
      ]
     },
     "execution_count": 42,
     "metadata": {},
     "output_type": "execute_result"
    }
   ],
   "source": [
    "name.lstrip(\" \")#To remove left space"
   ]
  },
  {
   "cell_type": "code",
   "execution_count": 43,
   "id": "aba14d51",
   "metadata": {},
   "outputs": [
    {
     "data": {
      "text/plain": [
       "' WASIM'"
      ]
     },
     "execution_count": 43,
     "metadata": {},
     "output_type": "execute_result"
    }
   ],
   "source": [
    "name.rstrip(\" \")"
   ]
  },
  {
   "cell_type": "code",
   "execution_count": 47,
   "id": "80aea521",
   "metadata": {},
   "outputs": [],
   "source": [
    "name = \"====Syed Wasim\""
   ]
  },
  {
   "cell_type": "code",
   "execution_count": 48,
   "id": "a4c89559",
   "metadata": {},
   "outputs": [
    {
     "data": {
      "text/plain": [
       "'Syed Wasim'"
      ]
     },
     "execution_count": 48,
     "metadata": {},
     "output_type": "execute_result"
    }
   ],
   "source": [
    "name.strip(\"====\")"
   ]
  },
  {
   "cell_type": "raw",
   "id": "55ea6aac",
   "metadata": {},
   "source": [
    "FORMATTING"
   ]
  },
  {
   "cell_type": "code",
   "execution_count": 49,
   "id": "b4e41cfe",
   "metadata": {},
   "outputs": [],
   "source": [
    "name = \"Wasim\""
   ]
  },
  {
   "cell_type": "code",
   "execution_count": 50,
   "id": "e69353ed",
   "metadata": {},
   "outputs": [
    {
     "data": {
      "text/plain": [
       "'^^^^^^^Wasim^^^^^^^^'"
      ]
     },
     "execution_count": 50,
     "metadata": {},
     "output_type": "execute_result"
    }
   ],
   "source": [
    "name.center(20,\"^\")"
   ]
  },
  {
   "cell_type": "code",
   "execution_count": 51,
   "id": "300aef60",
   "metadata": {},
   "outputs": [
    {
     "data": {
      "text/plain": [
       "'##Wasim###'"
      ]
     },
     "execution_count": 51,
     "metadata": {},
     "output_type": "execute_result"
    }
   ],
   "source": [
    "name.center(10,\"#\")"
   ]
  },
  {
   "cell_type": "code",
   "execution_count": 52,
   "id": "1e62ee77",
   "metadata": {},
   "outputs": [
    {
     "data": {
      "text/plain": [
       "5"
      ]
     },
     "execution_count": 52,
     "metadata": {},
     "output_type": "execute_result"
    }
   ],
   "source": [
    "len(name)"
   ]
  },
  {
   "cell_type": "raw",
   "id": "52ab0cb7",
   "metadata": {},
   "source": [
    "CHECKING STRING CASES[IMP]"
   ]
  },
  {
   "cell_type": "code",
   "execution_count": 53,
   "id": "d517f907",
   "metadata": {},
   "outputs": [],
   "source": [
    "name = \"WASIM\""
   ]
  },
  {
   "cell_type": "code",
   "execution_count": 54,
   "id": "b00efd03",
   "metadata": {},
   "outputs": [
    {
     "data": {
      "text/plain": [
       "True"
      ]
     },
     "execution_count": 54,
     "metadata": {},
     "output_type": "execute_result"
    }
   ],
   "source": [
    "name.isupper()"
   ]
  },
  {
   "cell_type": "code",
   "execution_count": 55,
   "id": "ea6b119d",
   "metadata": {},
   "outputs": [],
   "source": [
    "name = \"wasim\""
   ]
  },
  {
   "cell_type": "code",
   "execution_count": 56,
   "id": "c04d6f6f",
   "metadata": {},
   "outputs": [
    {
     "data": {
      "text/plain": [
       "True"
      ]
     },
     "execution_count": 56,
     "metadata": {},
     "output_type": "execute_result"
    }
   ],
   "source": [
    "name.islower()"
   ]
  },
  {
   "cell_type": "code",
   "execution_count": 57,
   "id": "6118f337",
   "metadata": {},
   "outputs": [
    {
     "data": {
      "text/plain": [
       "False"
      ]
     },
     "execution_count": 57,
     "metadata": {},
     "output_type": "execute_result"
    }
   ],
   "source": [
    "name.isupper()"
   ]
  },
  {
   "cell_type": "code",
   "execution_count": 58,
   "id": "0b57086a",
   "metadata": {},
   "outputs": [],
   "source": [
    "name = \"  wasim\""
   ]
  },
  {
   "cell_type": "code",
   "execution_count": 59,
   "id": "6f9f9e90",
   "metadata": {},
   "outputs": [
    {
     "data": {
      "text/plain": [
       "False"
      ]
     },
     "execution_count": 59,
     "metadata": {},
     "output_type": "execute_result"
    }
   ],
   "source": [
    "name.isspace()"
   ]
  },
  {
   "cell_type": "code",
   "execution_count": 60,
   "id": "18290d8a",
   "metadata": {},
   "outputs": [],
   "source": [
    "name = \" \""
   ]
  },
  {
   "cell_type": "code",
   "execution_count": 61,
   "id": "54986e7d",
   "metadata": {},
   "outputs": [
    {
     "data": {
      "text/plain": [
       "True"
      ]
     },
     "execution_count": 61,
     "metadata": {},
     "output_type": "execute_result"
    }
   ],
   "source": [
    "name.isspace()"
   ]
  },
  {
   "cell_type": "code",
   "execution_count": 62,
   "id": "fe82b598",
   "metadata": {},
   "outputs": [
    {
     "name": "stdout",
     "output_type": "stream",
     "text": [
      "Enter your name:syed wasimuddin zakir husain\n",
      "The user input:syed wasimuddin zakir husain\n",
      "wrong input we need to autocorrect it\n",
      "correct output:Syed Wasimuddin Zakir Husain\n"
     ]
    }
   ],
   "source": [
    "name = input(\"Enter your name:\")\n",
    "\n",
    "print(f\"The user input:{name}\")\n",
    "\n",
    "if name.istitle():\n",
    "    print(f\"user has given correct input\")\n",
    "else:\n",
    "    print(f\"wrong input we need to autocorrect it\")\n",
    "    name = name.title()\n",
    "    print(f\"correct output:{name}\")"
   ]
  },
  {
   "cell_type": "code",
   "execution_count": 2,
   "id": "28414e3e",
   "metadata": {},
   "outputs": [
    {
     "name": "stdout",
     "output_type": "stream",
     "text": [
      "Enter your name:syed wasimuddin \n",
      "The user input:syed wasimuddin \n",
      "wrong input we need to autocorrect it\n",
      "correct output:Syed Wasimuddin \n"
     ]
    }
   ],
   "source": [
    "name = input(\"Enter your name:\")\n",
    "\n",
    "print(f\"The user input:{name}\")\n",
    "\n",
    "if name.istitle():\n",
    "    print(f\"user has given correct input\")\n",
    "elif name.isspace():\n",
    "    print(f\"Wrong input please try again!!!\")\n",
    "else:\n",
    "    print(f\"wrong input we need to autocorrect it\")\n",
    "    name = name.title()\n",
    "    print(f\"correct output:{name}\")"
   ]
  },
  {
   "cell_type": "code",
   "execution_count": 3,
   "id": "9dd9679a",
   "metadata": {},
   "outputs": [
    {
     "name": "stdout",
     "output_type": "stream",
     "text": [
      "Enter your name:syeD wasimDDIN\n",
      "The user input:syeD wasimDDIN\n",
      "wrong input we need to autocorrect it\n",
      "correct output:Syed Wasimddin\n"
     ]
    }
   ],
   "source": [
    "name = input(\"Enter your name:\")\n",
    "\n",
    "print(f\"The user input:{name}\")\n",
    "\n",
    "if name.istitle():\n",
    "    print(f\"user has given correct input\")\n",
    "elif name.isspace():\n",
    "    print(f\"Wrong input please try again!!!\")\n",
    "else:\n",
    "    print(f\"wrong input we need to autocorrect it\")\n",
    "    name = name.title()\n",
    "    print(f\"correct output:{name}\")"
   ]
  },
  {
   "cell_type": "code",
   "execution_count": 5,
   "id": "0087923b",
   "metadata": {},
   "outputs": [],
   "source": [
    "phone_number = \"734823738383239\""
   ]
  },
  {
   "cell_type": "code",
   "execution_count": 6,
   "id": "202b3efd",
   "metadata": {},
   "outputs": [
    {
     "data": {
      "text/plain": [
       "True"
      ]
     },
     "execution_count": 6,
     "metadata": {},
     "output_type": "execute_result"
    }
   ],
   "source": [
    "phone_number.isdigit()"
   ]
  },
  {
   "cell_type": "code",
   "execution_count": 7,
   "id": "665a2afd",
   "metadata": {},
   "outputs": [],
   "source": [
    "phone_number = \"734823738383239dfdf\""
   ]
  },
  {
   "cell_type": "code",
   "execution_count": 8,
   "id": "d399a465",
   "metadata": {},
   "outputs": [
    {
     "data": {
      "text/plain": [
       "False"
      ]
     },
     "execution_count": 8,
     "metadata": {},
     "output_type": "execute_result"
    }
   ],
   "source": [
    "phone_number.isdigit()"
   ]
  },
  {
   "cell_type": "code",
   "execution_count": 11,
   "id": "06085391",
   "metadata": {},
   "outputs": [
    {
     "name": "stdout",
     "output_type": "stream",
     "text": [
      "Enter your number:8080075756\n",
      "User has correct number 8080075756\n"
     ]
    }
   ],
   "source": [
    "phone_number = input(\"Enter your number:\")\n",
    "if phone_number.isdigit() and len(phone_number) == 10:\n",
    "    print(f\"User has correct number {phone_number}\")\n",
    "else:\n",
    "    print(f\"User entered wrong input number { phone_number}\")\n",
    "          "
   ]
  },
  {
   "cell_type": "code",
   "execution_count": 12,
   "id": "9836a670",
   "metadata": {},
   "outputs": [
    {
     "name": "stdout",
     "output_type": "stream",
     "text": [
      "Enter your number:41654023120320230\n",
      "User entered wrong input number 41654023120320230\n"
     ]
    }
   ],
   "source": [
    "phone_number = input(\"Enter your number:\")\n",
    "if phone_number.isdigit() and len(phone_number) == 10 :\n",
    "    print(f\"User has correct number {phone_number}\")\n",
    "else:\n",
    "    print(f\"User entered wrong input number { phone_number}\")\n",
    "          "
   ]
  },
  {
   "cell_type": "code",
   "execution_count": 15,
   "id": "f70408c2",
   "metadata": {},
   "outputs": [
    {
     "name": "stdout",
     "output_type": "stream",
     "text": [
      "Enter your number:000000000\n",
      "Invalid input\n"
     ]
    }
   ],
   "source": [
    "phone_number = input(\"Enter your number:\")\n",
    "if phone_number.isdigit() and len(phone_number) == 10 and phone_number !=\"0000000000\":\n",
    "    print(f\"User has correct number {phone_number}\")\n",
    "else:\n",
    "    print(\"Invalid input\")\n",
    "          "
   ]
  },
  {
   "cell_type": "code",
   "execution_count": 16,
   "id": "a3616803",
   "metadata": {},
   "outputs": [
    {
     "data": {
      "text/plain": [
       "True"
      ]
     },
     "execution_count": 16,
     "metadata": {},
     "output_type": "execute_result"
    }
   ],
   "source": [
    "phone_number.startswith(\"0\")"
   ]
  },
  {
   "cell_type": "code",
   "execution_count": 17,
   "id": "58eb1a81",
   "metadata": {},
   "outputs": [
    {
     "data": {
      "text/plain": [
       "False"
      ]
     },
     "execution_count": 17,
     "metadata": {},
     "output_type": "execute_result"
    }
   ],
   "source": [
    "phone_number.startswith(\"1\")"
   ]
  },
  {
   "cell_type": "code",
   "execution_count": 18,
   "id": "3832f635",
   "metadata": {},
   "outputs": [
    {
     "data": {
      "text/plain": [
       "True"
      ]
     },
     "execution_count": 18,
     "metadata": {},
     "output_type": "execute_result"
    }
   ],
   "source": [
    "phone_number.endswith(\"0\")"
   ]
  },
  {
   "cell_type": "code",
   "execution_count": 19,
   "id": "f05757ff",
   "metadata": {},
   "outputs": [
    {
     "name": "stdout",
     "output_type": "stream",
     "text": [
      "Enter your Indian phone no: +918080075756\n",
      "User input is correct\n"
     ]
    }
   ],
   "source": [
    "phone_number = input(\"Enter your Indian phone no: \")\n",
    "\n",
    "if phone_number.startswith(\"+91\") and phone_number[1:].isdigit() and len(phone_number)==13:\n",
    "    print(f\"User input is correct\")\n",
    "else:\n",
    "    print(\"invalid input\")"
   ]
  },
  {
   "cell_type": "code",
   "execution_count": 20,
   "id": "29326304",
   "metadata": {},
   "outputs": [
    {
     "name": "stdout",
     "output_type": "stream",
     "text": [
      "Enter your Indian phone no: 245646512316546\n",
      "invalid input\n"
     ]
    }
   ],
   "source": [
    "phone_number = input(\"Enter your Indian phone no: \")\n",
    "\n",
    "if phone_number.startswith(\"+91\") and phone_number[1:].isdigit() and len(phone_number)==13:\n",
    "    print(f\"User input is correct\")\n",
    "else:\n",
    "    print(\"invalid input\")"
   ]
  },
  {
   "cell_type": "code",
   "execution_count": 21,
   "id": "6b31f3ab",
   "metadata": {},
   "outputs": [],
   "source": [
    "name = \"Wasimuddin\""
   ]
  },
  {
   "cell_type": "code",
   "execution_count": 22,
   "id": "cf07e84b",
   "metadata": {},
   "outputs": [],
   "source": [
    "pan_numbers = \"AYEP6744\""
   ]
  },
  {
   "cell_type": "code",
   "execution_count": 24,
   "id": "e8481168",
   "metadata": {},
   "outputs": [
    {
     "data": {
      "text/plain": [
       "True"
      ]
     },
     "execution_count": 24,
     "metadata": {},
     "output_type": "execute_result"
    }
   ],
   "source": [
    "pan_numbers.isalnum()#Check alphabets or numeric "
   ]
  },
  {
   "cell_type": "code",
   "execution_count": 25,
   "id": "d36041f6",
   "metadata": {},
   "outputs": [],
   "source": [
    "number = \"637463\""
   ]
  },
  {
   "cell_type": "code",
   "execution_count": 26,
   "id": "38dee27a",
   "metadata": {},
   "outputs": [
    {
     "data": {
      "text/plain": [
       "True"
      ]
     },
     "execution_count": 26,
     "metadata": {},
     "output_type": "execute_result"
    }
   ],
   "source": [
    "number.isalnum()"
   ]
  },
  {
   "cell_type": "code",
   "execution_count": 27,
   "id": "54cfeda2",
   "metadata": {},
   "outputs": [],
   "source": [
    "words = \"dhbfhs\""
   ]
  },
  {
   "cell_type": "code",
   "execution_count": 28,
   "id": "2e1e4e36",
   "metadata": {},
   "outputs": [
    {
     "data": {
      "text/plain": [
       "True"
      ]
     },
     "execution_count": 28,
     "metadata": {},
     "output_type": "execute_result"
    }
   ],
   "source": [
    "words.isalnum()"
   ]
  },
  {
   "cell_type": "code",
   "execution_count": null,
   "id": "23e47470",
   "metadata": {},
   "outputs": [],
   "source": []
  }
 ],
 "metadata": {
  "kernelspec": {
   "display_name": "Python 3 (ipykernel)",
   "language": "python",
   "name": "python3"
  },
  "language_info": {
   "codemirror_mode": {
    "name": "ipython",
    "version": 3
   },
   "file_extension": ".py",
   "mimetype": "text/x-python",
   "name": "python",
   "nbconvert_exporter": "python",
   "pygments_lexer": "ipython3",
   "version": "3.9.12"
  }
 },
 "nbformat": 4,
 "nbformat_minor": 5
}
