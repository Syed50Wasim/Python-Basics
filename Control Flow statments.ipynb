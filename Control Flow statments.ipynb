{
 "cells": [
  {
   "cell_type": "raw",
   "id": "0bd5e4e4",
   "metadata": {},
   "source": [
    "if else #covered \n",
    "lets see if elif else"
   ]
  },
  {
   "cell_type": "raw",
   "id": "10313d7e",
   "metadata": {},
   "source": [
    "Online food orders - Zomato app,swiggy, Uber eats\n",
    "\n",
    "if you order more than Rs.499\n",
    "discount = 20%\n",
    "if you order more than Rs.999\n",
    "discount = 30%"
   ]
  },
  {
   "cell_type": "code",
   "execution_count": 1,
   "id": "7cbef93a",
   "metadata": {},
   "outputs": [
    {
     "name": "stdout",
     "output_type": "stream",
     "text": [
      "Cart_amount:1290\n",
      "Pay_amount: 902.9999999999999\n"
     ]
    }
   ],
   "source": [
    "Total_amount = 90 + 100 + 100 + 1000\n",
    "\n",
    "print(f\"Cart_amount:{Total_amount}\")\n",
    "\n",
    "if Total_amount>1000:\n",
    "    price_after_discount = Total_amount * 0.7\n",
    "    print(f\"Pay_amount: {price_after_discount}\")\n",
    "elif Total_amount <= 999 and Total_amount > 499:\n",
    "    price_after_discount = Total_amount * 0.8\n",
    "    print(f\"Pay_amount: {price_after_discount}\")\n",
    "else:\n",
    "    print(f\"Pay_amount: {total_amount}\")"
   ]
  },
  {
   "cell_type": "code",
   "execution_count": 2,
   "id": "df6d3331",
   "metadata": {},
   "outputs": [
    {
     "name": "stdout",
     "output_type": "stream",
     "text": [
      "Cart_amount:690\n",
      "Pay_amount: 552.0\n"
     ]
    }
   ],
   "source": [
    "Total_amount = 90 + 100 + 500\n",
    "\n",
    "print(f\"Cart_amount:{Total_amount}\")\n",
    "\n",
    "if Total_amount>1000:\n",
    "    price_after_discount = Total_amount * 0.7\n",
    "    print(f\"Pay_amount: {price_after_discount}\")\n",
    "elif Total_amount <= 999 and Total_amount > 499:\n",
    "    price_after_discount = Total_amount * 0.8\n",
    "    print(f\"Pay_amount: {price_after_discount}\")\n",
    "else:\n",
    "    print(f\"Pay_amount: {total_amount}\")"
   ]
  },
  {
   "cell_type": "code",
   "execution_count": 3,
   "id": "09cc1e9a",
   "metadata": {},
   "outputs": [
    {
     "name": "stdout",
     "output_type": "stream",
     "text": [
      "Cart_amount:290\n",
      "Pay_amount: 290\n"
     ]
    }
   ],
   "source": [
    "Total_amount = 90 + 100 + 100 \n",
    "\n",
    "print(f\"Cart_amount:{Total_amount}\")\n",
    "\n",
    "if Total_amount>1000:\n",
    "    price_after_discount = Total_amount * 0.7\n",
    "    print(f\"Pay_amount: {price_after_discount}\")\n",
    "elif Total_amount <= 999 and Total_amount > 499:\n",
    "    price_after_discount = Total_amount * 0.8\n",
    "    print(f\"Pay_amount: {price_after_discount}\")\n",
    "else:\n",
    "    print(f\"Pay_amount: {Total_amount}\")"
   ]
  },
  {
   "cell_type": "raw",
   "id": "cc8ae507",
   "metadata": {},
   "source": [
    "Online food orders - Zomato app,swiggy, Uber eats\n",
    "\n",
    "if you order more than Rs.499\n",
    "discount = 20%\n",
    "if you order more than Rs.999\n",
    "discount = 30%\n",
    "if you order more than Rs.1499\n",
    "discount = 40%"
   ]
  },
  {
   "cell_type": "code",
   "execution_count": 4,
   "id": "6a63ca62",
   "metadata": {},
   "outputs": [
    {
     "name": "stdout",
     "output_type": "stream",
     "text": [
      "Cart_amount:1590\n",
      "Pay_amount: 954.0\n"
     ]
    }
   ],
   "source": [
    "Total_amount = 90 + 100 + 100 + 1000 +300\n",
    "\n",
    "print(f\"Cart_amount:{Total_amount}\")\n",
    "\n",
    "if Total_amount>1499:\n",
    "    price_after_discount = Total_amount * 0.6\n",
    "    print(f\"Pay_amount: {price_after_discount}\")\n",
    "elif 999 < Total_amount <= 1499:\n",
    "    price_after_discount = Total_amount * 0.7\n",
    "    print(f\"Pay_amount: {price_after_discount}\")\n",
    "elif 499 < Total_amount <=999:\n",
    "    price_after_discount = Total_amount * 0.8\n",
    "    print(f\"Pay_amount: {price_after_discount}\")\n",
    "    \n",
    "else:\n",
    "    print(f\"Pay_amount: {Total_amount}\")"
   ]
  },
  {
   "cell_type": "raw",
   "id": "cbd0e529",
   "metadata": {},
   "source": [
    "NESTED IF ELSE\n",
    "print the number is positive or negative"
   ]
  },
  {
   "cell_type": "code",
   "execution_count": 5,
   "id": "96a94db7",
   "metadata": {},
   "outputs": [
    {
     "name": "stdout",
     "output_type": "stream",
     "text": [
      "Enter the number:12\n",
      "Its a positive number\n"
     ]
    }
   ],
   "source": [
    "val = float(input(\"Enter the number:\"))\n",
    "if val>=0:\n",
    "    if val == 0:\n",
    "        print(\"Its zero\")\n",
    "    else:\n",
    "        print(\"Its a positive number\")\n",
    "else:\n",
    "    print(\"A negative number\")"
   ]
  },
  {
   "cell_type": "raw",
   "id": "ba694474",
   "metadata": {},
   "source": [
    "Single line if else\n",
    "\n",
    "\n",
    "print YES if the number is greater then 99"
   ]
  },
  {
   "cell_type": "code",
   "execution_count": 6,
   "id": "3ca017e3",
   "metadata": {},
   "outputs": [
    {
     "name": "stdout",
     "output_type": "stream",
     "text": [
      "Enter a number100\n",
      "YES\n"
     ]
    }
   ],
   "source": [
    "val = float(input(\"Enter a number\"))\n",
    "\n",
    "if val > 99: print(\"YES\")\n",
    "else: print(\"NO\")"
   ]
  },
  {
   "cell_type": "code",
   "execution_count": 7,
   "id": "cb82e69f",
   "metadata": {},
   "outputs": [
    {
     "name": "stdout",
     "output_type": "stream",
     "text": [
      "Enter a number55\n",
      "NO\n"
     ]
    }
   ],
   "source": [
    "val = float(input(\"Enter a number\"))\n",
    "\n",
    "if val > 99: print(\"YES\")\n",
    "else: print(\"NO\")"
   ]
  },
  {
   "cell_type": "code",
   "execution_count": 8,
   "id": "b9c93854",
   "metadata": {},
   "outputs": [
    {
     "data": {
      "text/plain": [
       "'NO'"
      ]
     },
     "execution_count": 8,
     "metadata": {},
     "output_type": "execute_result"
    }
   ],
   "source": [
    "#ONE MORE APPOROACH\n",
    "\"YES\" if val > 99 else \"NO\""
   ]
  },
  {
   "cell_type": "code",
   "execution_count": 9,
   "id": "67b581bd",
   "metadata": {},
   "outputs": [
    {
     "name": "stdout",
     "output_type": "stream",
     "text": [
      "Enter the number:556\n",
      "YES\n"
     ]
    }
   ],
   "source": [
    "val = float(input(\"Enter the number:\"))\n",
    "print(\"YES\" if val > 99 else \"NO\")"
   ]
  },
  {
   "cell_type": "raw",
   "id": "9213417a",
   "metadata": {},
   "source": [
    "*LOOPS :-\n",
    "1.While loop\n",
    "2.For loop\n",
    "3.Loop control\n",
    "-break\n",
    "-continue\n",
    "-pass\n",
    "4.Nested loop"
   ]
  },
  {
   "cell_type": "raw",
   "id": "5641508c",
   "metadata": {},
   "source": [
    "UPSC IAS GOVERNMENT EXAMS\n",
    "REPETATIVE EXAMS\n",
    "\n",
    "While i do not cross the cutoff  i will keep on giving m,y exams \n",
    "while CONDIOTION is True: print()"
   ]
  },
  {
   "cell_type": "code",
   "execution_count": null,
   "id": "9b3a274e",
   "metadata": {},
   "outputs": [],
   "source": [
    "total_marks = 1000\n",
    "cut_off = 400\n",
    "scores = [100,200,300,399,500]\n",
    "\n",
    "# I will on attempting until i successed\n",
    "year = 0\n",
    "while scores[year] < cut_off:\n",
    "    print(f\"Your score is : {scores[year]}\")\n",
    "    print(\"I will attempt next year\")\n",
    "    year = year + 1 #I am adding one to current year\n",
    "    "
   ]
  },
  {
   "cell_type": "raw",
   "id": "2ba46cd3",
   "metadata": {},
   "source": [
    "INFINITE LOOPE if the cindition is always True then your loop is will keep on running"
   ]
  },
  {
   "cell_type": "code",
   "execution_count": null,
   "id": "15a0bcba",
   "metadata": {},
   "outputs": [],
   "source": [
    "#while True:\n",
    "    #print(\"Yes\")"
   ]
  },
  {
   "cell_type": "code",
   "execution_count": null,
   "id": "0cbd821f",
   "metadata": {},
   "outputs": [],
   "source": [
    "\"\"\"\n",
    "Child is learning to counting 10 ruppes of the note\n",
    "\"\"\"\n",
    "notes = 5\n",
    "i = 1# 1st note\n",
    "while  i <= notes:\n",
    "    print(f\"current sum:{i*10}\")\n",
    "    i = i + 1"
   ]
  },
  {
   "cell_type": "code",
   "execution_count": null,
   "id": "67c0e298",
   "metadata": {},
   "outputs": [],
   "source": [
    "# Train journey \n",
    "stations = [\"Station 01\", \"Station 02\", \"Station 03\", \"Station 04\"]\n",
    "\n",
    "current_station = 0\n",
    "destination_station = \"Station 03\"\n",
    "\n",
    "while stations[current_station] != destination_station:\n",
    "  print(f\"current station is: {stations[current_station]}\")\n",
    "  print(f\"my destination is: {destination_station}\")\n",
    "  print(\"Continue the journey I haven't reached the destination\")\n",
    "  current_station = current_station + 1\n",
    "  print(f\"Next station is: {stations[current_station]}\")\n",
    "  print(\"-----\")\n",
    "else:\n",
    "  print(f\"I have arrived at: {stations[current_station]}\")  "
   ]
  },
  {
   "cell_type": "raw",
   "id": "35cf544d",
   "metadata": {},
   "source": [
    "WHILE ELSE"
   ]
  },
  {
   "cell_type": "code",
   "execution_count": null,
   "id": "75a32c6e",
   "metadata": {},
   "outputs": [],
   "source": [
    "#Train journey\n",
    "stations = ['station 01',\"station 02\",\"station 03\",\"station 04\"]\n",
    "current_station = 0\n",
    "destination_station = \"station03\"\n",
    "\n",
    "while stations[current_station] != destination_station:\n",
    "    print(f\"current station is :{stations[current_station]}\")\n",
    "    print(f\"my destination is:{destination_station}\")\n",
    "    print(f\"Continue the journey i havent reached the destination\")\n",
    "    current_station == current_station + 1\n",
    "    print(f\"Next station is: {stations[current_station]}\")\n",
    "    print(\"-------\")\n",
    "else:\n",
    "    print(f\"I have arrived at: {station[current_station]}\")"
   ]
  },
  {
   "cell_type": "raw",
   "id": "cdc1c159",
   "metadata": {},
   "source": [
    "FOR LOOP"
   ]
  },
  {
   "cell_type": "code",
   "execution_count": null,
   "id": "160ca4e3",
   "metadata": {},
   "outputs": [],
   "source": [
    "for i  in range(0,10):\n",
    "    print(i)"
   ]
  },
  {
   "cell_type": "code",
   "execution_count": null,
   "id": "83ac5748",
   "metadata": {},
   "outputs": [],
   "source": []
  }
 ],
 "metadata": {
  "kernelspec": {
   "display_name": "Python 3 (ipykernel)",
   "language": "python",
   "name": "python3"
  },
  "language_info": {
   "codemirror_mode": {
    "name": "ipython",
    "version": 3
   },
   "file_extension": ".py",
   "mimetype": "text/x-python",
   "name": "python",
   "nbconvert_exporter": "python",
   "pygments_lexer": "ipython3",
   "version": "3.9.12"
  }
 },
 "nbformat": 4,
 "nbformat_minor": 5
}
