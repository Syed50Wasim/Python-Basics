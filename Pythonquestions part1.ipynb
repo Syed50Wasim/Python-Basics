{
 "cells": [
  {
   "cell_type": "markdown",
   "id": "25249dc9",
   "metadata": {},
   "source": [
    "1. Print the first 5 positive integers in ascending order with one number \n",
    "in each line"
   ]
  },
  {
   "cell_type": "code",
   "execution_count": 1,
   "id": "e90a26e5",
   "metadata": {},
   "outputs": [
    {
     "name": "stdout",
     "output_type": "stream",
     "text": [
      "1\n",
      "2\n",
      "3\n",
      "4\n",
      "5\n"
     ]
    }
   ],
   "source": [
    "for i in range(5):\n",
    "    print(i+1)"
   ]
  },
  {
   "cell_type": "code",
   "execution_count": 2,
   "id": "516ab089",
   "metadata": {},
   "outputs": [
    {
     "name": "stdout",
     "output_type": "stream",
     "text": [
      "1\n",
      "2\n",
      "3\n",
      "4\n",
      "5\n"
     ]
    }
   ],
   "source": [
    "i = 1\n",
    "while i<=5:\n",
    "    print(i)\n",
    "    i = i + 1"
   ]
  },
  {
   "cell_type": "markdown",
   "id": "d2103417",
   "metadata": {},
   "source": [
    "2. Print the following pattern\n",
    "*\n",
    "**\n",
    "***\n",
    "****\n",
    "*****\n",
    "There are no spaces between consecutive stars. There are no spaces \n",
    "at the end of each line."
   ]
  },
  {
   "cell_type": "code",
   "execution_count": 4,
   "id": "88548f37",
   "metadata": {},
   "outputs": [
    {
     "name": "stdout",
     "output_type": "stream",
     "text": [
      "\n",
      "*\n",
      "**\n",
      "***\n",
      "****\n",
      "*****\n"
     ]
    }
   ],
   "source": [
    "for i in range(0,6):\n",
    "    print(\"*\"*i)"
   ]
  },
  {
   "cell_type": "code",
   "execution_count": 7,
   "id": "2bc17415",
   "metadata": {},
   "outputs": [
    {
     "name": "stdout",
     "output_type": "stream",
     "text": [
      "*\n",
      "**\n",
      "***\n",
      "****\n",
      "*****\n"
     ]
    }
   ],
   "source": [
    "for i in range(1,6):\n",
    "    for j in range(i):\n",
    "        print(\"*\",end=\"\")\n",
    "    print(\"\")"
   ]
  },
  {
   "cell_type": "markdown",
   "id": "8e2989ce",
   "metadata": {},
   "source": [
    "3. Accept an integer as input and print its square as output."
   ]
  },
  {
   "cell_type": "code",
   "execution_count": 10,
   "id": "4d878f81",
   "metadata": {},
   "outputs": [
    {
     "name": "stdout",
     "output_type": "stream",
     "text": [
      "integer:3\n",
      "9\n"
     ]
    }
   ],
   "source": [
    "n = int(input(\"integer:\"))\n",
    "print(n**2)"
   ]
  },
  {
   "cell_type": "markdown",
   "id": "c50a8bc5",
   "metadata": {},
   "source": [
    "4.Accept two integers as input and print their sum as output."
   ]
  },
  {
   "cell_type": "code",
   "execution_count": 13,
   "id": "2ae96758",
   "metadata": {},
   "outputs": [
    {
     "name": "stdout",
     "output_type": "stream",
     "text": [
      "First integer:3\n",
      "Second integer:2\n",
      "5\n"
     ]
    }
   ],
   "source": [
    "a = int(input(\"First integer:\"))\n",
    "b = int(input(\"Second integer:\"))\n",
    "print(a+b)"
   ]
  },
  {
   "cell_type": "markdown",
   "id": "fdc17111",
   "metadata": {},
   "source": [
    "5. Accept two words as input and print the two words after adding a \n",
    "space between them"
   ]
  },
  {
   "cell_type": "code",
   "execution_count": 14,
   "id": "35d7cbd3",
   "metadata": {},
   "outputs": [
    {
     "name": "stdout",
     "output_type": "stream",
     "text": [
      "Enter your first word:Hard\n",
      "Enter your second word:Work\n",
      "Hard Work\n"
     ]
    }
   ],
   "source": [
    "word1 = input(\"Enter your first word:\")\n",
    "word2 = input(\"Enter your second word:\")\n",
    "print(word1+\" \"+word2)"
   ]
  },
  {
   "cell_type": "markdown",
   "id": "b2d3224d",
   "metadata": {},
   "source": [
    "6. Accept the registration number of a vehicle as input and print its \n",
    "state-code as output."
   ]
  },
  {
   "cell_type": "code",
   "execution_count": 15,
   "id": "09d05299",
   "metadata": {},
   "outputs": [
    {
     "name": "stdout",
     "output_type": "stream",
     "text": [
      "MH25K752\n",
      "MH\n"
     ]
    }
   ],
   "source": [
    "n = input()\n",
    "print(n[0:2])"
   ]
  },
  {
   "cell_type": "markdown",
   "id": "7113acac",
   "metadata": {},
   "source": [
    "7.Accept a five-digit number as input and print the sum of its digits as \n",
    "output."
   ]
  },
  {
   "cell_type": "code",
   "execution_count": 18,
   "id": "9e6729b9",
   "metadata": {},
   "outputs": [
    {
     "name": "stdout",
     "output_type": "stream",
     "text": [
      "12345\n",
      "15\n"
     ]
    }
   ],
   "source": [
    "num = input()\n",
    "d1 = int(num[0])\n",
    "d2 = int(num[1])\n",
    "d3 = int(num[2])\n",
    "d4 = int(num[3])\n",
    "d5 = int(num[4])\n",
    "dsum = d1+d2+d3+d4+d5\n",
    "print(dsum)"
   ]
  },
  {
   "cell_type": "code",
   "execution_count": 20,
   "id": "f0347646",
   "metadata": {},
   "outputs": [
    {
     "name": "stdout",
     "output_type": "stream",
     "text": [
      "PLease enter the number:12345\n"
     ]
    },
    {
     "data": {
      "text/plain": [
       "15"
      ]
     },
     "execution_count": 20,
     "metadata": {},
     "output_type": "execute_result"
    }
   ],
   "source": [
    "a = input(\"PLease enter the number:\")\n",
    "count = 0\n",
    "for i in a:\n",
    "    count += int(i)\n",
    "count"
   ]
  },
  {
   "cell_type": "markdown",
   "id": "58ca1590",
   "metadata": {},
   "source": [
    "8.Accept five words as input and print the sentence formed by these \n",
    "words after adding a space between consecutive words and a full stop \n",
    "at the end."
   ]
  },
  {
   "cell_type": "code",
   "execution_count": 21,
   "id": "03817b03",
   "metadata": {},
   "outputs": [
    {
     "name": "stdout",
     "output_type": "stream",
     "text": [
      "i write a code today\n",
      "so \n",
      "i\n",
      "am \n",
      "happy\n"
     ]
    }
   ],
   "source": [
    "word1 = input()\n",
    "word2 = input()\n",
    "word3 = input()\n",
    "word4 = input()\n",
    "word5 = input()\n",
    "space = ' '\n",
    "stop = '.'\n",
    "sentence = word1 + space + word2 + space + word3 + space + word4 + space + word5 + space + stop"
   ]
  },
  {
   "cell_type": "code",
   "execution_count": 22,
   "id": "c023c8b6",
   "metadata": {},
   "outputs": [
    {
     "data": {
      "text/plain": [
       "'i write a code today so  i am  happy .'"
      ]
     },
     "execution_count": 22,
     "metadata": {},
     "output_type": "execute_result"
    }
   ],
   "source": [
    "sentence "
   ]
  },
  {
   "cell_type": "markdown",
   "id": "c9e2703d",
   "metadata": {},
   "source": [
    "9.Accept the date in DD-MM-YYYY format as input and print the \n",
    "year as output.\n"
   ]
  },
  {
   "cell_type": "code",
   "execution_count": 25,
   "id": "78590f3e",
   "metadata": {},
   "outputs": [
    {
     "name": "stdout",
     "output_type": "stream",
     "text": [
      "21/05/2002\n",
      "2002\n"
     ]
    }
   ],
   "source": [
    "date = input()\n",
    "year = date[-4:]\n",
    "print(year)"
   ]
  },
  {
   "cell_type": "code",
   "execution_count": 26,
   "id": "12c85f4f",
   "metadata": {},
   "outputs": [
    {
     "name": "stdout",
     "output_type": "stream",
     "text": [
      "25/03/2008\n",
      "2008\n"
     ]
    }
   ],
   "source": [
    "a = input()\n",
    "year = a[6:]\n",
    "print(year)"
   ]
  },
  {
   "cell_type": "markdown",
   "id": "518a03e3",
   "metadata": {},
   "source": [
    "10.Accept a sequence of five single digit numbers separated by commas \n",
    "as input. Print the product of all five numbers."
   ]
  },
  {
   "cell_type": "code",
   "execution_count": 27,
   "id": "4e54072c",
   "metadata": {},
   "outputs": [
    {
     "name": "stdout",
     "output_type": "stream",
     "text": [
      "120\n"
     ]
    }
   ],
   "source": [
    "inp_num = [1,2,3,4,5]\n",
    "prod = 1\n",
    "for i in inp_num:\n",
    "    if i !=',':\n",
    "        prod = prod * i\n",
    "print(prod)"
   ]
  },
  {
   "cell_type": "markdown",
   "id": "0da2b936",
   "metadata": {},
   "source": [
    "11. Accept two positive integers x and y as input. Print the number of \n",
    "digits in x**y"
   ]
  },
  {
   "cell_type": "code",
   "execution_count": 28,
   "id": "f6ccd16d",
   "metadata": {},
   "outputs": [
    {
     "name": "stdout",
     "output_type": "stream",
     "text": [
      "Enter the number :2\n",
      "Enter the second number : 4\n",
      "16\n"
     ]
    }
   ],
   "source": [
    "x = int(input(\"Enter the number :\"))\n",
    "y = int(input(\"Enter the second number : \"))\n",
    "a = x**y\n",
    "print(a)\n",
    "\n"
   ]
  },
  {
   "cell_type": "code",
   "execution_count": 29,
   "id": "18b445f6",
   "metadata": {},
   "outputs": [
    {
     "name": "stdout",
     "output_type": "stream",
     "text": [
      "Enter the number :2\n",
      "Enter the second number : 3\n",
      "The square of number is :8\n"
     ]
    }
   ],
   "source": [
    "x = int(input(\"Enter the number :\"))\n",
    "y = int(input(\"Enter the second number : \"))\n",
    "a = x**y\n",
    "print(f\"The square of number is :{a}\")"
   ]
  },
  {
   "cell_type": "raw",
   "id": "45846e86",
   "metadata": {},
   "source": [
    "# 12. Accept a string as input. If the input string is of odd length, then \n",
    "continue with it. If the input string is of even length, make the \n",
    "string of odd length as below:\n",
    "• If the last character is a period (.), then remove it \n",
    "• If the last character is not a period, then add a period (.) to the \n",
    "end of the string\n",
    "Call this string of odd length word. Select a substring made up of \n",
    "three consecutive characters from word such that there are an \n",
    "equal number of characters to the left and right of this substring. \n",
    "Print this substring as output. You can assume that all input \n",
    "strings will be in lower case and will have a length of at least four"
   ]
  },
  {
   "cell_type": "code",
   "execution_count": 32,
   "id": "c9b7bc5a",
   "metadata": {},
   "outputs": [
    {
     "name": "stdout",
     "output_type": "stream",
     "text": [
      "was\n",
      "was\n"
     ]
    }
   ],
   "source": [
    "s = input()\n",
    "n = len(s)\n",
    "if n%2==0:\n",
    "    if s[n-1]=='.':\n",
    "        s=s[:-1]\n",
    "    else:\n",
    "        s=s+'.'\n",
    "n = int((len(s)-1)/2)\n",
    "print(s[n-1:n+2])"
   ]
  },
  {
   "cell_type": "raw",
   "id": "24c55e6d",
   "metadata": {},
   "source": [
    "13. Accept three positive integers as input and check if they form the \n",
    "sides of a right triangle. Print YES if they form one, and NO is they do \n",
    "not. The input will have three lines, with one integer on each line. \n",
    "The output should be a single line containing one of these two \n",
    "strings: YES or NO."
   ]
  },
  {
   "cell_type": "code",
   "execution_count": 33,
   "id": "8e2467ae",
   "metadata": {},
   "outputs": [
    {
     "name": "stdout",
     "output_type": "stream",
     "text": [
      "3\n",
      "3\n",
      "3\n",
      "No\n"
     ]
    }
   ],
   "source": [
    "x=int(input())\n",
    "y=int(input())\n",
    "z=int(input())\n",
    "if ((x**2 + y**2 ==z**2)or\n",
    "    (y**2 + z**2==x**2)or\n",
    "    (z**2 + x**2==y**2)):\n",
    "    print(\"Yes\")\n",
    "else:\n",
    "    print(\"No\")\n",
    "    "
   ]
  },
  {
   "cell_type": "code",
   "execution_count": 34,
   "id": "b5c23dab",
   "metadata": {},
   "outputs": [
    {
     "name": "stdout",
     "output_type": "stream",
     "text": [
      "3\n",
      "4\n",
      "5\n",
      "Yes\n"
     ]
    }
   ],
   "source": [
    "x=int(input())\n",
    "y=int(input())\n",
    "z=int(input())\n",
    "if ((x**2 + y**2 ==z**2)or\n",
    "    (y**2 + z**2==x**2)or\n",
    "    (z**2 + x**2==y**2)):\n",
    "    print(\"Yes\")\n",
    "else:\n",
    "    print(\"No\")"
   ]
  },
  {
   "cell_type": "raw",
   "id": "e9af19ec",
   "metadata": {},
   "source": [
    "14. EvenOdd is a tech startup. Each employee at the startup is given an employee id which is a unique \n",
    "positive integer. On one warm Sunday evening, five employees of the company come together for a \n",
    "meeting and sit at a circular table:\n",
    "The employees follow a strange convention. They will continue the meeting only if the following \n",
    "condition is satisfied.\n",
    "The sum of the employee-ids of every pair of adjacent employees at the table must be an even \n",
    "number.\n",
    "They are so lazy that they won’t move around to satisfy the above condition, If the current seating \n",
    "plan doesn’t satisfy the condition, the meeting will be cancelled. You are given the employee-id of all \n",
    "five employees. Your task is to decide if the meeting happened or not.\n",
    "The input will be five lined, each containing an integer. The ith line will have the employee-id of Ei. \n",
    "The output will be a single line containing one of these two strings: YES or NO"
   ]
  },
  {
   "cell_type": "code",
   "execution_count": 36,
   "id": "cce015d3",
   "metadata": {},
   "outputs": [
    {
     "name": "stdout",
     "output_type": "stream",
     "text": [
      "1\n",
      "2\n",
      "3\n",
      "4\n",
      "5\n",
      "No\n"
     ]
    }
   ],
   "source": [
    "emp1 = int(input())\n",
    "emp2 = int(input())\n",
    "emp3 = int(input())\n",
    "emp4 = int(input())\n",
    "emp5 = int(input())\n",
    "\n",
    "if ((emp1 + emp2)%2==0 and\n",
    "    (emp2+ emp3)%2==0 and\n",
    "    (emp3+ emp4)%2==0 and\n",
    "    (emp4 + emp5)%2==0 and\n",
    "    (emp5 + emp1)%2==0):\n",
    "    print(\"YES\")\n",
    "else:\n",
    "    print(\"No\")"
   ]
  },
  {
   "cell_type": "raw",
   "id": "0340c98c",
   "metadata": {},
   "source": [
    "15. Accept a string as input and print the vowels present in the string in \n",
    "alphabetical order. If the string doesn’t contain any vowels, then \n",
    "print the string none as output. Each vowel that appears in the input \n",
    "string – irrespective of its case should appear just once in lower case \n",
    "in the output"
   ]
  },
  {
   "cell_type": "code",
   "execution_count": 39,
   "id": "76427eb3",
   "metadata": {},
   "outputs": [
    {
     "name": "stdout",
     "output_type": "stream",
     "text": [
      "enter your string:wasim\n",
      "['w', 'a', 's', 'i', 'm']\n",
      "vowels found are:\n",
      "{'i', 'a'}\n"
     ]
    }
   ],
   "source": [
    "n = input(\"enter your string:\")\n",
    "lst = list(n)\n",
    "print(lst)\n",
    "vols=['a','e','i','o','u']\n",
    "\n",
    "out=[]\n",
    "for each in lst:\n",
    "    if each in vols:\n",
    "        out.append(each)\n",
    "print(\"vowels found are:\")\n",
    "print(set(out))"
   ]
  },
  {
   "cell_type": "raw",
   "id": "9de79881",
   "metadata": {},
   "source": [
    "16.You are given the date of birth of two persons, not necessarily from \n",
    "the same family. Your task is to find the younger of the two. If both \n",
    "of them share the same date of birth, then the younger of the two is \n",
    "assumed to be that person whose name comes first in alphabetical \n",
    "order.\n",
    "The input will have four lines. The first two lines correspond to the \n",
    "first person, while the last two lines correspond to the second \n",
    "person. For each person, the first line corresponds to the name and \n",
    "the second line corresponds to the date of birth in “DD-MM-YYYY” \n",
    "format. Your output should be the name of the younger of the two."
   ]
  },
  {
   "cell_type": "code",
   "execution_count": 1,
   "id": "8d0c3ec0",
   "metadata": {},
   "outputs": [
    {
     "name": "stdout",
     "output_type": "stream",
     "text": [
      "wasim\n",
      "21/05/2002\n",
      "Aleem\n",
      "2/3/2001\n",
      "wasim\n"
     ]
    }
   ],
   "source": [
    "n1 = input()\n",
    "d1 = input()\n",
    "n2 = input()\n",
    "d2 = input()\n",
    "if d1 == d2:\n",
    "    if n1<n2:\n",
    "        print(n1)\n",
    "    else:\n",
    "        print(n2)\n",
    "elif d1[-4:] != d2[-4]:\n",
    "    if int(d1[-4:])<int(d2[-4:]):\n",
    "        print(n2)\n",
    "    else:\n",
    "        print(n1)\n",
    "elif d1[3:5] != d2[3:5]:\n",
    "    if int(d1[3:5])<int(d2[3:5]):\n",
    "        print(n2)\n",
    "    else:\n",
    "        print(n1)\n",
    "elif d1[0:2] != d2[0:2]:\n",
    "    if int(d1[0:2])<int(d2[0:2]):\n",
    "        print(n2)\n",
    "    else:\n",
    "        print(n1)"
   ]
  },
  {
   "cell_type": "raw",
   "id": "592ef73f",
   "metadata": {},
   "source": [
    "17.Accept a string as input. Your task is to determine if the input string is a valid password or not. For a \n",
    "string to be a valid password, it must satisfy all the conditions given below:\n",
    "(1) It should have at least 8 and at most 32 characters\n",
    "(2) It should start with an uppercase or lowercase letter\n",
    "(3) It should not have any of these characters: / \\ = ' \"\n",
    "(4) It should not have spaces\n",
    "It could have any character that is not mentioned in the list of characters to be avoided (points 3 and \n",
    "4). Output True if the string forms a valid password and False otherwise"
   ]
  },
  {
   "cell_type": "code",
   "execution_count": 3,
   "id": "980788c7",
   "metadata": {},
   "outputs": [
    {
     "name": "stdout",
     "output_type": "stream",
     "text": [
      "ws123trtj\n",
      "True\n"
     ]
    }
   ],
   "source": [
    "p = input()\n",
    "if 8<=len(p)<=32 and p[0].isalpha() and '/' not in p and '\\\\' not in p and '\\'' not in p and '=' not in p and ' 'not in p and '/' not in p:\n",
    "    print('True')\n",
    "else:\n",
    "    print('False')"
   ]
  },
  {
   "cell_type": "raw",
   "id": "22aea2dc",
   "metadata": {},
   "source": [
    "18. Accept a positive integer n as input and print the first n positive \n",
    "integers, one number on each line."
   ]
  },
  {
   "cell_type": "code",
   "execution_count": 6,
   "id": "2ac4c69b",
   "metadata": {},
   "outputs": [
    {
     "name": "stdout",
     "output_type": "stream",
     "text": [
      "5\n",
      "1\n",
      "2\n",
      "3\n",
      "4\n",
      "5\n"
     ]
    }
   ],
   "source": [
    "n = int(input())\n",
    "for i in range(1,n+1):\n",
    "    print(i)"
   ]
  },
  {
   "cell_type": "raw",
   "id": "22fbac99",
   "metadata": {},
   "source": [
    "19.Accept a positive integer n as input, where n is greater than 1. \n",
    "Print PRIME ifnis a prime number and NOTPRIME otherwise."
   ]
  },
  {
   "cell_type": "code",
   "execution_count": 8,
   "id": "746ce440",
   "metadata": {},
   "outputs": [
    {
     "name": "stdout",
     "output_type": "stream",
     "text": [
      "3\n",
      "3 It is a prime Number\n"
     ]
    }
   ],
   "source": [
    "n = int (input())\n",
    "isprime = True\n",
    "if n == 1:\n",
    "    isprime = False\n",
    "else:\n",
    "    for i in range(2,n):\n",
    "        if n%i==0:\n",
    "            isprime =False\n",
    "if isprime == True:\n",
    "    print(f\"{n} It is a prime Number\")\n",
    "else:\n",
    "    print(f\"{n} It is not a prime number\")\n"
   ]
  },
  {
   "cell_type": "raw",
   "id": "3add0f3d",
   "metadata": {},
   "source": [
    "20. Accept two strings as input and form a new string by removing all \n",
    "characters from the second string which are present in the first string. \n",
    "Print this new string as output. You can assume that all input strings \n",
    "will be in lower case."
   ]
  },
  {
   "cell_type": "code",
   "execution_count": 9,
   "id": "d536d3b5",
   "metadata": {},
   "outputs": [
    {
     "name": "stdout",
     "output_type": "stream",
     "text": [
      "wasim\n",
      "aleem\n",
      "lee\n"
     ]
    }
   ],
   "source": [
    "a = input()\n",
    "b = input()\n",
    "for c in a:\n",
    "    if c in b:\n",
    "        b = b.replace(c,'')\n",
    "print(b)"
   ]
  },
  {
   "cell_type": "code",
   "execution_count": null,
   "id": "b1c491f1",
   "metadata": {},
   "outputs": [],
   "source": []
  }
 ],
 "metadata": {
  "kernelspec": {
   "display_name": "Python 3 (ipykernel)",
   "language": "python",
   "name": "python3"
  },
  "language_info": {
   "codemirror_mode": {
    "name": "ipython",
    "version": 3
   },
   "file_extension": ".py",
   "mimetype": "text/x-python",
   "name": "python",
   "nbconvert_exporter": "python",
   "pygments_lexer": "ipython3",
   "version": "3.9.12"
  }
 },
 "nbformat": 4,
 "nbformat_minor": 5
}
