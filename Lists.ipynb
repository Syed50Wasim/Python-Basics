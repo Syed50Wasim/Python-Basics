{
 "cells": [
  {
   "cell_type": "code",
   "execution_count": 1,
   "id": "7e94d533",
   "metadata": {},
   "outputs": [],
   "source": [
    "#Lis t is the collection of different or individual elements \n",
    "A = [1,2,3,4,5]"
   ]
  },
  {
   "cell_type": "code",
   "execution_count": 2,
   "id": "e044706f",
   "metadata": {},
   "outputs": [
    {
     "data": {
      "text/plain": [
       "5"
      ]
     },
     "execution_count": 2,
     "metadata": {},
     "output_type": "execute_result"
    }
   ],
   "source": [
    "len(A)"
   ]
  },
  {
   "cell_type": "code",
   "execution_count": 3,
   "id": "d6504ceb",
   "metadata": {},
   "outputs": [
    {
     "data": {
      "text/plain": [
       "1"
      ]
     },
     "execution_count": 3,
     "metadata": {},
     "output_type": "execute_result"
    }
   ],
   "source": [
    "A[0]"
   ]
  },
  {
   "cell_type": "code",
   "execution_count": 4,
   "id": "a946074b",
   "metadata": {},
   "outputs": [],
   "source": [
    "A = [1,2,3,4,5.0,\"Wasim\",1+3j,True]"
   ]
  },
  {
   "cell_type": "code",
   "execution_count": 5,
   "id": "fc46904f",
   "metadata": {},
   "outputs": [
    {
     "data": {
      "text/plain": [
       "list"
      ]
     },
     "execution_count": 5,
     "metadata": {},
     "output_type": "execute_result"
    }
   ],
   "source": [
    "type(A)"
   ]
  },
  {
   "cell_type": "raw",
   "id": "fd3bedbd",
   "metadata": {},
   "source": [
    "A = [1,2,3,4,5.0,\"Wasim\",1+3j,True]\n",
    "#What is the difference between list of python and array of c or c++?\n",
    "ans:- In an array we will element as only one datatype in pyhton list all elements can be different or same datatype."
   ]
  },
  {
   "cell_type": "code",
   "execution_count": 6,
   "id": "5ec47c82",
   "metadata": {},
   "outputs": [
    {
     "name": "stdout",
     "output_type": "stream",
     "text": [
      "1\n",
      "2\n",
      "3\n",
      "4\n",
      "5.0\n",
      "Wasim\n",
      "(1+3j)\n",
      "True\n"
     ]
    }
   ],
   "source": [
    "for element in A:\n",
    "    print(element)"
   ]
  },
  {
   "cell_type": "code",
   "execution_count": 7,
   "id": "0db40a67",
   "metadata": {},
   "outputs": [
    {
     "name": "stdout",
     "output_type": "stream",
     "text": [
      "1 2 3 4 5.0 Wasim (1+3j) True "
     ]
    }
   ],
   "source": [
    "for element in A:\n",
    "    print(element,end=\" \")"
   ]
  },
  {
   "cell_type": "code",
   "execution_count": 8,
   "id": "c1f3c507",
   "metadata": {},
   "outputs": [
    {
     "name": "stdout",
     "output_type": "stream",
     "text": [
      "1\n",
      "2\n",
      "3\n",
      "4\n",
      "5.0\n",
      "Wasim\n",
      "(1+3j)\n",
      "True\n"
     ]
    }
   ],
   "source": [
    "for i in range(len(A)):\n",
    "    print(A[i])"
   ]
  },
  {
   "cell_type": "code",
   "execution_count": 9,
   "id": "3cc7eb92",
   "metadata": {},
   "outputs": [
    {
     "name": "stdout",
     "output_type": "stream",
     "text": [
      "i = 0, value = 1, datatype = <class 'int'>\n",
      "i = 1, value = 2, datatype = <class 'int'>\n",
      "i = 2, value = 3, datatype = <class 'int'>\n",
      "i = 3, value = 4, datatype = <class 'int'>\n",
      "i = 4, value = 5.0, datatype = <class 'float'>\n",
      "i = 5, value = Wasim, datatype = <class 'str'>\n",
      "i = 6, value = (1+3j), datatype = <class 'complex'>\n",
      "i = 7, value = True, datatype = <class 'bool'>\n"
     ]
    }
   ],
   "source": [
    "for i in range(len(A)):\n",
    "    print(f\"i = {i}, value = {A[i]}, datatype = {type(A[i])}\")"
   ]
  },
  {
   "cell_type": "code",
   "execution_count": 10,
   "id": "b57eb48f",
   "metadata": {},
   "outputs": [
    {
     "data": {
      "text/plain": [
       "[4, 5.0, 'Wasim', (1+3j), True]"
      ]
     },
     "execution_count": 10,
     "metadata": {},
     "output_type": "execute_result"
    }
   ],
   "source": [
    "A[3:]"
   ]
  },
  {
   "cell_type": "code",
   "execution_count": 11,
   "id": "8867e034",
   "metadata": {},
   "outputs": [
    {
     "data": {
      "text/plain": [
       "[1, 3, 5.0, (1+3j)]"
      ]
     },
     "execution_count": 11,
     "metadata": {},
     "output_type": "execute_result"
    }
   ],
   "source": [
    "A[0::2]"
   ]
  },
  {
   "cell_type": "code",
   "execution_count": 12,
   "id": "5cd5aa31",
   "metadata": {},
   "outputs": [
    {
     "name": "stdout",
     "output_type": "stream",
     "text": [
      "0 1\n",
      "2 3\n",
      "4 5.0\n",
      "6 (1+3j)\n"
     ]
    }
   ],
   "source": [
    "for i in range(0,8,2):\n",
    "    print(i,A[i])"
   ]
  },
  {
   "cell_type": "code",
   "execution_count": 13,
   "id": "c3dffe6c",
   "metadata": {},
   "outputs": [
    {
     "data": {
      "text/plain": [
       "[True, (1+3j), 'Wasim', 5.0, 4, 3, 2, 1]"
      ]
     },
     "execution_count": 13,
     "metadata": {},
     "output_type": "execute_result"
    }
   ],
   "source": [
    "A[::-1]"
   ]
  },
  {
   "cell_type": "code",
   "execution_count": 14,
   "id": "f7b729c2",
   "metadata": {},
   "outputs": [
    {
     "name": "stdout",
     "output_type": "stream",
     "text": [
      "-1 True\n",
      "-2 (1+3j)\n",
      "-3 Wasim\n",
      "-4 5.0\n",
      "-5 4\n",
      "-6 3\n",
      "-7 2\n",
      "-8 1\n"
     ]
    }
   ],
   "source": [
    "for i in range(-1,-len(A)-1,-1):#-len(A)==-8\n",
    "    print(i,A[i])"
   ]
  },
  {
   "cell_type": "code",
   "execution_count": 15,
   "id": "b9070dca",
   "metadata": {},
   "outputs": [
    {
     "data": {
      "text/plain": [
       "[1, 3, 5.0, (1+3j)]"
      ]
     },
     "execution_count": 15,
     "metadata": {},
     "output_type": "execute_result"
    }
   ],
   "source": [
    "A[::2]"
   ]
  },
  {
   "cell_type": "code",
   "execution_count": 16,
   "id": "a0a122ea",
   "metadata": {},
   "outputs": [
    {
     "data": {
      "text/plain": [
       "[2, 4, 'Wasim', True]"
      ]
     },
     "execution_count": 16,
     "metadata": {},
     "output_type": "execute_result"
    }
   ],
   "source": [
    "A[1::2]"
   ]
  },
  {
   "cell_type": "code",
   "execution_count": 17,
   "id": "7de78dee",
   "metadata": {},
   "outputs": [
    {
     "name": "stdout",
     "output_type": "stream",
     "text": [
      "1 2\n",
      "5 Wasim\n",
      "6 (1+3j)\n",
      "7 True\n"
     ]
    }
   ],
   "source": [
    "for i in [1,5,6,7]:\n",
    "    print(i,A[i])"
   ]
  },
  {
   "cell_type": "code",
   "execution_count": 18,
   "id": "0063a7f8",
   "metadata": {},
   "outputs": [],
   "source": [
    "A[4] = 999#List Mutable means we can change the value"
   ]
  },
  {
   "cell_type": "code",
   "execution_count": 19,
   "id": "16f8741c",
   "metadata": {},
   "outputs": [
    {
     "data": {
      "text/plain": [
       "[1, 2, 3, 4, 999, 'Wasim', (1+3j), True]"
      ]
     },
     "execution_count": 19,
     "metadata": {},
     "output_type": "execute_result"
    }
   ],
   "source": [
    "A"
   ]
  },
  {
   "cell_type": "code",
   "execution_count": 20,
   "id": "542323e5",
   "metadata": {},
   "outputs": [],
   "source": [
    "B = [78,90.2]"
   ]
  },
  {
   "cell_type": "code",
   "execution_count": 21,
   "id": "a03a370e",
   "metadata": {},
   "outputs": [
    {
     "data": {
      "text/plain": [
       "[1, 2, 3, 4, 999, 'Wasim', (1+3j), True, 78, 90.2]"
      ]
     },
     "execution_count": 21,
     "metadata": {},
     "output_type": "execute_result"
    }
   ],
   "source": [
    "A + B"
   ]
  },
  {
   "cell_type": "code",
   "execution_count": 22,
   "id": "9215c372",
   "metadata": {},
   "outputs": [],
   "source": [
    "A[-2] = \"inertone\""
   ]
  },
  {
   "cell_type": "code",
   "execution_count": 23,
   "id": "242c9926",
   "metadata": {},
   "outputs": [
    {
     "data": {
      "text/plain": [
       "[1, 2, 3, 4, 999, 'Wasim', 'inertone', True]"
      ]
     },
     "execution_count": 23,
     "metadata": {},
     "output_type": "execute_result"
    }
   ],
   "source": [
    "A"
   ]
  },
  {
   "cell_type": "code",
   "execution_count": 24,
   "id": "aaa5cac3",
   "metadata": {},
   "outputs": [
    {
     "ename": "TypeError",
     "evalue": "unsupported operand type(s) for -: 'list' and 'list'",
     "output_type": "error",
     "traceback": [
      "\u001b[1;31m---------------------------------------------------------------------------\u001b[0m",
      "\u001b[1;31mTypeError\u001b[0m                                 Traceback (most recent call last)",
      "Input \u001b[1;32mIn [24]\u001b[0m, in \u001b[0;36m<cell line: 1>\u001b[1;34m()\u001b[0m\n\u001b[1;32m----> 1\u001b[0m \u001b[43mA\u001b[49m\u001b[43m \u001b[49m\u001b[38;5;241;43m-\u001b[39;49m\u001b[43m \u001b[49m\u001b[43mB\u001b[49m\n",
      "\u001b[1;31mTypeError\u001b[0m: unsupported operand type(s) for -: 'list' and 'list'"
     ]
    }
   ],
   "source": [
    "A - B#It can not support "
   ]
  },
  {
   "cell_type": "raw",
   "id": "65c28bd9",
   "metadata": {},
   "source": [
    "MAKE THE LIST DOUBLE "
   ]
  },
  {
   "cell_type": "code",
   "execution_count": 25,
   "id": "5d6a0779",
   "metadata": {},
   "outputs": [
    {
     "data": {
      "text/plain": [
       "[1,\n",
       " 2,\n",
       " 3,\n",
       " 4,\n",
       " 999,\n",
       " 'Wasim',\n",
       " 'inertone',\n",
       " True,\n",
       " 1,\n",
       " 2,\n",
       " 3,\n",
       " 4,\n",
       " 999,\n",
       " 'Wasim',\n",
       " 'inertone',\n",
       " True]"
      ]
     },
     "execution_count": 25,
     "metadata": {},
     "output_type": "execute_result"
    }
   ],
   "source": [
    "A*2"
   ]
  },
  {
   "cell_type": "code",
   "execution_count": 26,
   "id": "3fd531e2",
   "metadata": {},
   "outputs": [
    {
     "data": {
      "text/plain": [
       "[]"
      ]
     },
     "execution_count": 26,
     "metadata": {},
     "output_type": "execute_result"
    }
   ],
   "source": [
    "A* -1"
   ]
  },
  {
   "cell_type": "code",
   "execution_count": 27,
   "id": "e8d3c91f",
   "metadata": {},
   "outputs": [
    {
     "data": {
      "text/plain": [
       "[]"
      ]
     },
     "execution_count": 27,
     "metadata": {},
     "output_type": "execute_result"
    }
   ],
   "source": [
    "A*-2"
   ]
  },
  {
   "cell_type": "code",
   "execution_count": 28,
   "id": "ca329bd2",
   "metadata": {},
   "outputs": [
    {
     "data": {
      "text/plain": [
       "[1,\n",
       " 2,\n",
       " 3,\n",
       " 4,\n",
       " 999,\n",
       " 'Wasim',\n",
       " 'inertone',\n",
       " True,\n",
       " 1,\n",
       " 2,\n",
       " 3,\n",
       " 4,\n",
       " 999,\n",
       " 'Wasim',\n",
       " 'inertone',\n",
       " True,\n",
       " 1,\n",
       " 2,\n",
       " 3,\n",
       " 4,\n",
       " 999,\n",
       " 'Wasim',\n",
       " 'inertone',\n",
       " True]"
      ]
     },
     "execution_count": 28,
     "metadata": {},
     "output_type": "execute_result"
    }
   ],
   "source": [
    "A  + 2*A"
   ]
  },
  {
   "cell_type": "raw",
   "id": "b4f6a9e2",
   "metadata": {},
   "source": [
    "Lenght :-\n",
    "lenght of the list can be calculated using built in functuion len()."
   ]
  },
  {
   "cell_type": "code",
   "execution_count": 29,
   "id": "dd98424a",
   "metadata": {},
   "outputs": [],
   "source": [
    "l = [45,6,7,5,\"ineuron\",True,False,35,62.56]"
   ]
  },
  {
   "cell_type": "code",
   "execution_count": 30,
   "id": "3ef398a1",
   "metadata": {},
   "outputs": [
    {
     "data": {
      "text/plain": [
       "9"
      ]
     },
     "execution_count": 30,
     "metadata": {},
     "output_type": "execute_result"
    }
   ],
   "source": [
    "len(l)"
   ]
  },
  {
   "cell_type": "code",
   "execution_count": 31,
   "id": "677f32ce",
   "metadata": {},
   "outputs": [
    {
     "data": {
      "text/plain": [
       "8"
      ]
     },
     "execution_count": 31,
     "metadata": {},
     "output_type": "execute_result"
    }
   ],
   "source": [
    "len(A)"
   ]
  },
  {
   "cell_type": "code",
   "execution_count": 32,
   "id": "898d97c1",
   "metadata": {},
   "outputs": [
    {
     "data": {
      "text/plain": [
       "0"
      ]
     },
     "execution_count": 32,
     "metadata": {},
     "output_type": "execute_result"
    }
   ],
   "source": [
    "my_list = []#Not recommencd\n",
    "len(my_list)"
   ]
  },
  {
   "cell_type": "code",
   "execution_count": 33,
   "id": "0d9a4e1b",
   "metadata": {},
   "outputs": [],
   "source": [
    "my_list = list()#Recommended"
   ]
  },
  {
   "cell_type": "code",
   "execution_count": 34,
   "id": "c82c136b",
   "metadata": {},
   "outputs": [
    {
     "data": {
      "text/plain": [
       "0"
      ]
     },
     "execution_count": 34,
     "metadata": {},
     "output_type": "execute_result"
    }
   ],
   "source": [
    "len(my_list)"
   ]
  },
  {
   "cell_type": "raw",
   "id": "513fe15c",
   "metadata": {},
   "source": [
    "CREATE A LIST USING USER_INPUT"
   ]
  },
  {
   "cell_type": "code",
   "execution_count": 35,
   "id": "6c1aa682",
   "metadata": {},
   "outputs": [
    {
     "name": "stdout",
     "output_type": "stream",
     "text": [
      " Enter the item that you want to purchase: Bag\n",
      " Enter the item that you want to purchase: pen\n",
      " Enter the item that you want to purchase: copy\n",
      " Enter the item that you want to purchase: notebook\n",
      " Enter the item that you want to purchase: compass\n",
      " Enter the item that you want to purchase: color\n",
      " Enter the item that you want to purchase: unifor\n",
      " Enter the item that you want to purchase: shooes\n",
      " Enter the item that you want to purchase: sox\n",
      " Enter the item that you want to purchase: cap\n",
      "['Bag', 'pen', 'copy', 'notebook', 'compass', 'color', 'unifor', 'shooes', 'sox', 'cap']\n"
     ]
    }
   ],
   "source": [
    "list_of_item_to__purchase = list()#Empty list we are defining\n",
    "\n",
    "for i in range(10):\n",
    "    user_input = input(\" Enter the item that you want to purchase: \")\n",
    "    list_of_item_to__purchase = list_of_item_to__purchase + [ user_input]\n",
    "print(list_of_item_to__purchase)"
   ]
  },
  {
   "cell_type": "code",
   "execution_count": 36,
   "id": "36f748d3",
   "metadata": {},
   "outputs": [
    {
     "name": "stdout",
     "output_type": "stream",
     "text": [
      "Number of stom you want to purchase:5\n",
      " Enter the item that you want to purchase: Kote\n",
      " Enter the item that you want to purchase: caer\n",
      " Enter the item that you want to purchase: bike\n",
      " Enter the item that you want to purchase: watch\n",
      " Enter the item that you want to purchase: phone\n",
      "['Kote', 'caer', 'bike', 'watch', 'phone']\n"
     ]
    }
   ],
   "source": [
    "list_of_item_to__purchase = list()#Empty list we are defining\n",
    "N = int(input(\"Number of stom you want to purchase:\"))\n",
    "for i in range(N):\n",
    "    user_input = input(\" Enter the item that you want to purchase: \")\n",
    "    list_of_item_to__purchase = list_of_item_to__purchase + [ user_input]\n",
    "print(list_of_item_to__purchase)"
   ]
  },
  {
   "cell_type": "code",
   "execution_count": 37,
   "id": "3548553b",
   "metadata": {},
   "outputs": [
    {
     "data": {
      "text/plain": [
       "5"
      ]
     },
     "execution_count": 37,
     "metadata": {},
     "output_type": "execute_result"
    }
   ],
   "source": [
    "len(list_of_item_to__purchase)"
   ]
  },
  {
   "cell_type": "markdown",
   "id": "6f56d570",
   "metadata": {},
   "source": [
    "USE WHILE LOOP"
   ]
  },
  {
   "cell_type": "code",
   "execution_count": 38,
   "id": "81469347",
   "metadata": {},
   "outputs": [
    {
     "name": "stdout",
     "output_type": "stream",
     "text": [
      "Number of stom you want to purchase:3\n",
      " Enter the item that you want to purchase: pot \n",
      " Enter the item that you want to purchase: spoon\n",
      " Enter the item that you want to purchase: cooker\n",
      "['pot ', 'spoon', 'cooker']\n"
     ]
    }
   ],
   "source": [
    "list_of_item_to__purchase = list()#Empty list we are defining\n",
    "N = int(input(\"Number of stom you want to purchase:\"))\n",
    "i =0\n",
    "while i < N:\n",
    "    user_input = input(\" Enter the item that you want to purchase: \")\n",
    "    list_of_item_to__purchase = list_of_item_to__purchase + [ user_input]\n",
    "    i = i + 1\n",
    "print(list_of_item_to__purchase)"
   ]
  },
  {
   "cell_type": "code",
   "execution_count": 40,
   "id": "0077a3cd",
   "metadata": {},
   "outputs": [
    {
     "name": "stdout",
     "output_type": "stream",
     "text": [
      "Number of stom you want to purchase:4\n",
      " Enter the item that you want to purchase: mouse\n",
      "current i : 1=> Current list:['mouse']\n",
      " Enter the item that you want to purchase: monitor\n",
      "current i : 2=> Current list:['mouse', 'monitor']\n",
      " Enter the item that you want to purchase: keypad\n",
      "current i : 3=> Current list:['mouse', 'monitor', 'keypad']\n",
      " Enter the item that you want to purchase: remote\n",
      "current i : 4=> Current list:['mouse', 'monitor', 'keypad', 'remote']\n",
      "['mouse', 'monitor', 'keypad', 'remote']\n"
     ]
    }
   ],
   "source": [
    "list_of_item_to__purchase = list()#Empty list we are defining\n",
    "N = int(input(\"Number of stom you want to purchase:\"))\n",
    "i =0\n",
    "while i < N:\n",
    "    user_input = input(\" Enter the item that you want to purchase: \")\n",
    "    list_of_item_to__purchase = list_of_item_to__purchase + [ user_input]\n",
    "    i = i + 1\n",
    "    print(f\"current i : {i}=> Current list:{list_of_item_to__purchase}\")\n",
    "print(list_of_item_to__purchase)"
   ]
  },
  {
   "cell_type": "markdown",
   "id": "39a8542d",
   "metadata": {},
   "source": [
    "check memebership in list"
   ]
  },
  {
   "cell_type": "code",
   "execution_count": 43,
   "id": "e71e256d",
   "metadata": {},
   "outputs": [
    {
     "data": {
      "text/plain": [
       "False"
      ]
     },
     "execution_count": 43,
     "metadata": {},
     "output_type": "execute_result"
    }
   ],
   "source": [
    "\"computer\" in list_of_item_to__purchase"
   ]
  },
  {
   "cell_type": "code",
   "execution_count": 44,
   "id": "7a169b0a",
   "metadata": {},
   "outputs": [
    {
     "data": {
      "text/plain": [
       "True"
      ]
     },
     "execution_count": 44,
     "metadata": {},
     "output_type": "execute_result"
    }
   ],
   "source": [
    "\"monitor\" in list_of_item_to__purchase"
   ]
  },
  {
   "cell_type": "code",
   "execution_count": 47,
   "id": "a05fb981",
   "metadata": {},
   "outputs": [
    {
     "name": "stdout",
     "output_type": "stream",
     "text": [
      "Yes\n"
     ]
    }
   ],
   "source": [
    "if \"computer\" in list_of_item_to__purchase:\n",
    "    print('Yes')\n",
    "else:\n",
    "    print(\"No, adding in to the list \")\n",
    "    list_of_item_to__purchase  = list_of_item_to__purchase + [\"computer\"]\n"
   ]
  },
  {
   "cell_type": "code",
   "execution_count": 50,
   "id": "9c0b5db1",
   "metadata": {},
   "outputs": [
    {
     "name": "stdout",
     "output_type": "stream",
     "text": [
      "No, adding in to the list \n"
     ]
    }
   ],
   "source": [
    "if \"CPU\" in list_of_item_to__purchase:\n",
    "    print('Yes')\n",
    "else:\n",
    "    print(\"No, adding in to the list \")\n",
    "    list_of_item_to__purchase  = list_of_item_to__purchase + [\"CPU\"]\n"
   ]
  },
  {
   "cell_type": "code",
   "execution_count": 51,
   "id": "224962af",
   "metadata": {},
   "outputs": [
    {
     "name": "stdout",
     "output_type": "stream",
     "text": [
      "['mouse', 'monitor', 'keypad', 'remote', 'computer', 'computer', 'CPU']\n"
     ]
    }
   ],
   "source": [
    "print(list_of_item_to__purchase)"
   ]
  },
  {
   "cell_type": "code",
   "execution_count": 52,
   "id": "e3fd7021",
   "metadata": {},
   "outputs": [
    {
     "name": "stdout",
     "output_type": "stream",
     "text": [
      "No, adding into the list\n"
     ]
    },
    {
     "data": {
      "text/plain": [
       "['mouse', 'monitor', 'keypad', 'remote', 'computer', 'computer', 'CPU', 'ssd']"
      ]
     },
     "execution_count": 52,
     "metadata": {},
     "output_type": "execute_result"
    }
   ],
   "source": [
    "if \"ssd\" not in list_of_item_to__purchase:\n",
    "    print(\"No, adding into the list\")\n",
    "    list_of_item_to__purchase = list_of_item_to__purchase + [\"ssd\"]\n",
    "list_of_item_to__purchase"
   ]
  },
  {
   "cell_type": "markdown",
   "id": "6a6d3a8e",
   "metadata": {},
   "source": [
    "MAX value in list "
   ]
  },
  {
   "cell_type": "code",
   "execution_count": 53,
   "id": "672f30fe",
   "metadata": {},
   "outputs": [
    {
     "data": {
      "text/plain": [
       "89"
      ]
     },
     "execution_count": 53,
     "metadata": {},
     "output_type": "execute_result"
    }
   ],
   "source": [
    "example = [1,45,65,89]\n",
    "max(example)"
   ]
  },
  {
   "cell_type": "code",
   "execution_count": 54,
   "id": "f86d49bd",
   "metadata": {},
   "outputs": [],
   "source": [
    "#In python 3 you can find the max with different data types"
   ]
  },
  {
   "cell_type": "code",
   "execution_count": 56,
   "id": "a3256d3e",
   "metadata": {},
   "outputs": [
    {
     "data": {
      "text/plain": [
       "'c'"
      ]
     },
     "execution_count": 56,
     "metadata": {},
     "output_type": "execute_result"
    }
   ],
   "source": [
    "string_example = [\"b\",\"a\",\"c\"]\n",
    "max(string_example)"
   ]
  },
  {
   "cell_type": "code",
   "execution_count": 58,
   "id": "afb9f6c2",
   "metadata": {},
   "outputs": [
    {
     "data": {
      "text/plain": [
       "'d'"
      ]
     },
     "execution_count": 58,
     "metadata": {},
     "output_type": "execute_result"
    }
   ],
   "source": [
    "string_example = [\"d\",\"b\",\"a\",\"c\"]\n",
    "max(string_example)"
   ]
  },
  {
   "cell_type": "code",
   "execution_count": 60,
   "id": "033febfe",
   "metadata": {},
   "outputs": [
    {
     "data": {
      "text/plain": [
       "'d'"
      ]
     },
     "execution_count": 60,
     "metadata": {},
     "output_type": "execute_result"
    }
   ],
   "source": [
    "string_example = [\"d\",\"b\",\"a\",\"c\",\"F\"]\n",
    "max(string_example)#Beacause it is ASCII code preference "
   ]
  },
  {
   "cell_type": "code",
   "execution_count": 61,
   "id": "8d5c4233",
   "metadata": {},
   "outputs": [
    {
     "data": {
      "text/plain": [
       "-4"
      ]
     },
     "execution_count": 61,
     "metadata": {},
     "output_type": "execute_result"
    }
   ],
   "source": [
    "example = [12,34,5,-4]\n",
    "min(example)"
   ]
  },
  {
   "cell_type": "code",
   "execution_count": 62,
   "id": "b93a7ccf",
   "metadata": {},
   "outputs": [],
   "source": [
    "string_example = [\"wasim\",\"Aleem\",\"faraz\",\"zahed\",\"dj\"]"
   ]
  },
  {
   "cell_type": "code",
   "execution_count": 63,
   "id": "1cc57ed7",
   "metadata": {},
   "outputs": [
    {
     "data": {
      "text/plain": [
       "'zahed'"
      ]
     },
     "execution_count": 63,
     "metadata": {},
     "output_type": "execute_result"
    }
   ],
   "source": [
    "max(string_example)"
   ]
  },
  {
   "cell_type": "code",
   "execution_count": 64,
   "id": "b7af3870",
   "metadata": {},
   "outputs": [
    {
     "data": {
      "text/plain": [
       "'Aleem'"
      ]
     },
     "execution_count": 64,
     "metadata": {},
     "output_type": "execute_result"
    }
   ],
   "source": [
    "min(string_example)"
   ]
  },
  {
   "cell_type": "code",
   "execution_count": 68,
   "id": "99007cdc",
   "metadata": {},
   "outputs": [
    {
     "name": "stdout",
     "output_type": "stream",
     "text": [
      "wasim 5\n"
     ]
    },
    {
     "ename": "NameError",
     "evalue": "name 'exapmle' is not defined",
     "output_type": "error",
     "traceback": [
      "\u001b[1;31m---------------------------------------------------------------------------\u001b[0m",
      "\u001b[1;31mNameError\u001b[0m                                 Traceback (most recent call last)",
      "Input \u001b[1;32mIn [68]\u001b[0m, in \u001b[0;36m<cell line: 4>\u001b[1;34m()\u001b[0m\n\u001b[0;32m      4\u001b[0m \u001b[38;5;28;01mfor\u001b[39;00m example \u001b[38;5;129;01min\u001b[39;00m string_example:\n\u001b[0;32m      5\u001b[0m     \u001b[38;5;28mprint\u001b[39m(example,\u001b[38;5;28mlen\u001b[39m(example))\n\u001b[1;32m----> 6\u001b[0m     \u001b[38;5;28;01mif\u001b[39;00m \u001b[38;5;28mlen\u001b[39m(\u001b[43mexapmle\u001b[49m) \u001b[38;5;241m>\u001b[39m max__len:\n\u001b[0;32m      7\u001b[0m         max_len \u001b[38;5;241m=\u001b[39m \u001b[38;5;28mlen\u001b[39m(example)\n\u001b[0;32m      8\u001b[0m         result \u001b[38;5;241m=\u001b[39m example\n",
      "\u001b[1;31mNameError\u001b[0m: name 'exapmle' is not defined"
     ]
    }
   ],
   "source": [
    "#print the name with the heighest number of characters ---\n",
    "max_len = 0\n",
    "result = \"\"\n",
    "for example in string_example:\n",
    "    print(example,len(example))\n",
    "    if len(exapmle) > max__len:\n",
    "        max_len = len(example)\n",
    "        result = example\n",
    "print(f\"RESULT: max_len: {max_len} name: {result}\")"
   ]
  },
  {
   "cell_type": "markdown",
   "id": "8ba89e70",
   "metadata": {},
   "source": [
    "APPEND MEATHOD"
   ]
  },
  {
   "cell_type": "code",
   "execution_count": 69,
   "id": "df04019b",
   "metadata": {},
   "outputs": [],
   "source": [
    "A = [1,2,77]\n",
    "A.append(\"new_element\")"
   ]
  },
  {
   "cell_type": "code",
   "execution_count": 70,
   "id": "8da2abb0",
   "metadata": {},
   "outputs": [
    {
     "data": {
      "text/plain": [
       "[1, 2, 77, 'new_element']"
      ]
     },
     "execution_count": 70,
     "metadata": {},
     "output_type": "execute_result"
    }
   ],
   "source": [
    "A"
   ]
  },
  {
   "cell_type": "code",
   "execution_count": 71,
   "id": "b524759a",
   "metadata": {},
   "outputs": [],
   "source": [
    "A.append(\"ROMA\")"
   ]
  },
  {
   "cell_type": "code",
   "execution_count": 72,
   "id": "2367ff9d",
   "metadata": {},
   "outputs": [
    {
     "data": {
      "text/plain": [
       "[1, 2, 77, 'new_element', 'ROMA']"
      ]
     },
     "execution_count": 72,
     "metadata": {},
     "output_type": "execute_result"
    }
   ],
   "source": [
    "A"
   ]
  },
  {
   "cell_type": "code",
   "execution_count": 73,
   "id": "b00f0e6c",
   "metadata": {},
   "outputs": [
    {
     "ename": "TypeError",
     "evalue": "list.append() takes exactly one argument (2 given)",
     "output_type": "error",
     "traceback": [
      "\u001b[1;31m---------------------------------------------------------------------------\u001b[0m",
      "\u001b[1;31mTypeError\u001b[0m                                 Traceback (most recent call last)",
      "Input \u001b[1;32mIn [73]\u001b[0m, in \u001b[0;36m<cell line: 1>\u001b[1;34m()\u001b[0m\n\u001b[1;32m----> 1\u001b[0m \u001b[43mA\u001b[49m\u001b[38;5;241;43m.\u001b[39;49m\u001b[43mappend\u001b[49m\u001b[43m(\u001b[49m\u001b[38;5;124;43m\"\u001b[39;49m\u001b[38;5;124;43mwasd\u001b[39;49m\u001b[38;5;124;43m\"\u001b[39;49m\u001b[43m,\u001b[49m\u001b[38;5;124;43m\"\u001b[39;49m\u001b[38;5;124;43mds\u001b[39;49m\u001b[38;5;124;43m\"\u001b[39;49m\u001b[43m)\u001b[49m\n",
      "\u001b[1;31mTypeError\u001b[0m: list.append() takes exactly one argument (2 given)"
     ]
    }
   ],
   "source": [
    "A.append(\"wasd\",\"ds\")"
   ]
  },
  {
   "cell_type": "code",
   "execution_count": 74,
   "id": "da889f4a",
   "metadata": {},
   "outputs": [],
   "source": [
    "A.append([\"wasim\",\"wasiw\"])"
   ]
  },
  {
   "cell_type": "code",
   "execution_count": 76,
   "id": "db72857a",
   "metadata": {},
   "outputs": [
    {
     "data": {
      "text/plain": [
       "[1, 2, 77, 'new_element', 'ROMA', ['wasim', 'wasiw']]"
      ]
     },
     "execution_count": 76,
     "metadata": {},
     "output_type": "execute_result"
    }
   ],
   "source": [
    "A"
   ]
  },
  {
   "cell_type": "code",
   "execution_count": 77,
   "id": "938a8207",
   "metadata": {},
   "outputs": [
    {
     "data": {
      "text/plain": [
       "3"
      ]
     },
     "execution_count": 77,
     "metadata": {},
     "output_type": "execute_result"
    }
   ],
   "source": [
    "A = [3,5,6,7,\"Wasim\"]\n",
    "A.pop(0)"
   ]
  },
  {
   "cell_type": "code",
   "execution_count": 78,
   "id": "134ec2cd",
   "metadata": {},
   "outputs": [
    {
     "data": {
      "text/plain": [
       "[5, 6, 7, 'Wasim']"
      ]
     },
     "execution_count": 78,
     "metadata": {},
     "output_type": "execute_result"
    }
   ],
   "source": [
    "A"
   ]
  },
  {
   "cell_type": "code",
   "execution_count": 80,
   "id": "046a7efd",
   "metadata": {},
   "outputs": [
    {
     "data": {
      "text/plain": [
       "'Wasim'"
      ]
     },
     "execution_count": 80,
     "metadata": {},
     "output_type": "execute_result"
    }
   ],
   "source": [
    "A.pop()"
   ]
  },
  {
   "cell_type": "code",
   "execution_count": 81,
   "id": "95a2ea44",
   "metadata": {},
   "outputs": [
    {
     "data": {
      "text/plain": [
       "[5, 6, 7]"
      ]
     },
     "execution_count": 81,
     "metadata": {},
     "output_type": "execute_result"
    }
   ],
   "source": [
    "A"
   ]
  },
  {
   "cell_type": "code",
   "execution_count": 83,
   "id": "7189e73f",
   "metadata": {},
   "outputs": [
    {
     "name": "stdout",
     "output_type": "stream",
     "text": [
      "0 62\n",
      "Even num:62\n",
      "1 34\n",
      "Even num:34\n",
      "2 55\n",
      "odd num:55\n",
      "3 77\n",
      "odd num:77\n",
      "4 87\n",
      "odd num:87\n",
      "5 98\n",
      "Even num:98\n"
     ]
    }
   ],
   "source": [
    "#remove the odd numbers \n",
    "A = [62,34,55,77,87,98]\n",
    "\n",
    "for idx in range(len(A)):\n",
    "    num = A[idx]\n",
    "    print(idx,num)\n",
    "    if num%2!=0:#odd condition adn it gives the remainder value\n",
    "        print(f\"odd num:{num}\")\n",
    "    else:\n",
    "        print(f\"Even num:{num}\")"
   ]
  },
  {
   "cell_type": "markdown",
   "id": "9ac9783b",
   "metadata": {},
   "source": [
    "sort meanthod"
   ]
  },
  {
   "cell_type": "code",
   "execution_count": 84,
   "id": "b8557243",
   "metadata": {},
   "outputs": [],
   "source": [
    "a = [1,45,67,32,-45]"
   ]
  },
  {
   "cell_type": "code",
   "execution_count": 85,
   "id": "32a17666",
   "metadata": {},
   "outputs": [],
   "source": [
    "a.sort()"
   ]
  },
  {
   "cell_type": "code",
   "execution_count": 86,
   "id": "6efad9c7",
   "metadata": {},
   "outputs": [
    {
     "data": {
      "text/plain": [
       "[-45, 1, 32, 45, 67]"
      ]
     },
     "execution_count": 86,
     "metadata": {},
     "output_type": "execute_result"
    }
   ],
   "source": [
    "a"
   ]
  },
  {
   "cell_type": "code",
   "execution_count": 87,
   "id": "173c9902",
   "metadata": {},
   "outputs": [
    {
     "data": {
      "text/plain": [
       "[34, 55, 62, 77, 87, 98]"
      ]
     },
     "execution_count": 87,
     "metadata": {},
     "output_type": "execute_result"
    }
   ],
   "source": [
    "sorted(A)"
   ]
  },
  {
   "cell_type": "code",
   "execution_count": 88,
   "id": "e83713ae",
   "metadata": {},
   "outputs": [
    {
     "data": {
      "text/plain": [
       "[-45, 1, 32, 45, 67]"
      ]
     },
     "execution_count": 88,
     "metadata": {},
     "output_type": "execute_result"
    }
   ],
   "source": [
    "sorted(a)"
   ]
  },
  {
   "cell_type": "code",
   "execution_count": 89,
   "id": "8314dcd6",
   "metadata": {},
   "outputs": [],
   "source": [
    "B = [23,43,56,67,\"wasim\",\"kaleem\"]"
   ]
  },
  {
   "cell_type": "code",
   "execution_count": 90,
   "id": "3b2669bc",
   "metadata": {},
   "outputs": [],
   "source": [
    "B.reverse()"
   ]
  },
  {
   "cell_type": "code",
   "execution_count": 91,
   "id": "d4f56653",
   "metadata": {},
   "outputs": [
    {
     "data": {
      "text/plain": [
       "['kaleem', 'wasim', 67, 56, 43, 23]"
      ]
     },
     "execution_count": 91,
     "metadata": {},
     "output_type": "execute_result"
    }
   ],
   "source": [
    "B"
   ]
  },
  {
   "cell_type": "code",
   "execution_count": null,
   "id": "d307ac1a",
   "metadata": {},
   "outputs": [],
   "source": []
  }
 ],
 "metadata": {
  "kernelspec": {
   "display_name": "Python 3 (ipykernel)",
   "language": "python",
   "name": "python3"
  },
  "language_info": {
   "codemirror_mode": {
    "name": "ipython",
    "version": 3
   },
   "file_extension": ".py",
   "mimetype": "text/x-python",
   "name": "python",
   "nbconvert_exporter": "python",
   "pygments_lexer": "ipython3",
   "version": "3.9.12"
  }
 },
 "nbformat": 4,
 "nbformat_minor": 5
}
